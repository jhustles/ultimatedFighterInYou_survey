{
 "cells": [
  {
   "cell_type": "code",
   "execution_count": 1,
   "metadata": {},
   "outputs": [],
   "source": [
    "# Import BeautifulSoup\n",
    "from bs4 import BeautifulSoup\n",
    "from splinter import Browser \n",
    "import requests\n",
    "import numpy \n",
    "import pandas as pd\n",
    "\n",
    "soup = BeautifulSoup \n",
    "\n",
    "# Set the executable path and initialize the chrome browser \n",
    "executable_path = {'executable_path': 'chromedriver.exe'}\n",
    "browser = Browser('chrome', **executable_path)"
   ]
  },
  {
   "cell_type": "code",
   "execution_count": 2,
   "metadata": {},
   "outputs": [
    {
     "name": "stdout",
     "output_type": "stream",
     "text": [
      "<Response [200]>\n"
     ]
    }
   ],
   "source": [
    "# THIS URL WILL SCRAP ALL B'S - CHANGE THE \"=b\" to the letter you want to scrape\n",
    "url = 'http://ufcstats.com/statistics/fighters?char=a&page=all'\n",
    "browser.visit(url)\n",
    "response = requests.get(url)\n",
    "print(response)"
   ]
  },
  {
   "cell_type": "code",
   "execution_count": 3,
   "metadata": {},
   "outputs": [],
   "source": [
    "soup = BeautifulSoup(response.text, 'html.parser')\n",
    "# print(soup.prettify())"
   ]
  },
  {
   "cell_type": "code",
   "execution_count": null,
   "metadata": {},
   "outputs": [],
   "source": [
    "# asking Splinter to go to site and hit button with a class name full_image\n",
    "# <button class=\"full_image\"> Full Image</button>\n",
    "# ufc_button = browser.findall('.//html')\n",
    "# ufc_button.click()\n",
    "# fighters_soup = soup.find_all('tr')\n",
    "# print(fighters_soup).text"
   ]
  },
  {
   "cell_type": "code",
   "execution_count": null,
   "metadata": {},
   "outputs": [],
   "source": []
  },
  {
   "cell_type": "code",
   "execution_count": null,
   "metadata": {},
   "outputs": [],
   "source": [
    "# html = browser.html\n",
    "# url = 'http://ufcstats.com/statistics/fighters'\n",
    "# browser.visit(url)\n",
    "\n",
    "# stats_soup= BeautifulSoup(html, 'html.parser')\n",
    "# print(stats_soup)"
   ]
  },
  {
   "cell_type": "markdown",
   "metadata": {},
   "source": [
    "## A Fighters Scraped"
   ]
  },
  {
   "cell_type": "code",
   "execution_count": 4,
   "metadata": {},
   "outputs": [
    {
     "name": "stdout",
     "output_type": "stream",
     "text": [
      "<Response [200]>\n"
     ]
    }
   ],
   "source": [
    "url = 'http://ufcstats.com/statistics/fighters?char=a&page=all'\n",
    "browser.visit(url)\n",
    "response = requests.get(url)\n",
    "print(response)"
   ]
  },
  {
   "cell_type": "code",
   "execution_count": 5,
   "metadata": {},
   "outputs": [],
   "source": [
    "# ALL FIGHTER GENERAL STATS TABLE BY NAME (ALL ON ONE TABLE NO JS)\n",
    "#data_b_links = soup.find_all(\"a\", attrs={\"class\": \"b-link\"})\n",
    "data_b_stats = soup.find_all(\"td\", attrs={\"class\": \"b-statistics__table-col\"})\n",
    "# border statistics NOT \"b\" fighters\n",
    "data_b_stats\n",
    "\n",
    "\n",
    "\n",
    "link_list = []\n",
    "for fighter_link in data_b_stats:\n",
    "    if(fighter_link.a):\n",
    "        link_list.append(fighter_link.a[\"href\"])\n",
    "        link_list.append(fighter_link.get_text().strip())\n",
    "    else:\n",
    "        link_list.append(fighter_link.get_text().strip())\n",
    "final_data = []\n",
    "for index in range(0, len(link_list), 14):\n",
    "    final_data.append(link_list[index:index+14])\n",
    "    print(final_data)\n",
    "\n",
    "\n",
    "A_list =pd.DataFrame(final_data, columns=['link1', 'First Name', \"link2\", \"Last Name\", \"link3\", \"Nick Name\", \"Height\", \"Weight\", \"Reach\", \"Stance\", \"Win\", \"Loss\", \"Draw\", \"Champion Status\"])"
   ]
  },
  {
   "cell_type": "code",
   "execution_count": null,
   "metadata": {},
   "outputs": [],
   "source": []
  },
  {
   "cell_type": "code",
   "execution_count": 6,
   "metadata": {},
   "outputs": [
    {
     "data": {
      "text/html": [
       "<div>\n",
       "<style scoped>\n",
       "    .dataframe tbody tr th:only-of-type {\n",
       "        vertical-align: middle;\n",
       "    }\n",
       "\n",
       "    .dataframe tbody tr th {\n",
       "        vertical-align: top;\n",
       "    }\n",
       "\n",
       "    .dataframe thead th {\n",
       "        text-align: right;\n",
       "    }\n",
       "</style>\n",
       "<table border=\"1\" class=\"dataframe\">\n",
       "  <thead>\n",
       "    <tr style=\"text-align: right;\">\n",
       "      <th></th>\n",
       "      <th>link1</th>\n",
       "      <th>First Name</th>\n",
       "      <th>link2</th>\n",
       "      <th>Last Name</th>\n",
       "      <th>link3</th>\n",
       "      <th>Nick Name</th>\n",
       "      <th>Height</th>\n",
       "      <th>Weight</th>\n",
       "      <th>Reach</th>\n",
       "      <th>Stance</th>\n",
       "      <th>Win</th>\n",
       "      <th>Loss</th>\n",
       "      <th>Draw</th>\n",
       "      <th>Champion Status</th>\n",
       "    </tr>\n",
       "  </thead>\n",
       "  <tbody>\n",
       "    <tr>\n",
       "      <th>0</th>\n",
       "      <td>http://ufcstats.com/fighter-details/93fe7332d1...</td>\n",
       "      <td>Tom</td>\n",
       "      <td>http://ufcstats.com/fighter-details/93fe7332d1...</td>\n",
       "      <td>Aaron</td>\n",
       "      <td>http://ufcstats.com/fighter-details/93fe7332d1...</td>\n",
       "      <td></td>\n",
       "      <td>--</td>\n",
       "      <td>155 lbs.</td>\n",
       "      <td>--</td>\n",
       "      <td></td>\n",
       "      <td>5</td>\n",
       "      <td>3</td>\n",
       "      <td>0</td>\n",
       "      <td></td>\n",
       "    </tr>\n",
       "    <tr>\n",
       "      <th>1</th>\n",
       "      <td>http://ufcstats.com/fighter-details/15df64c02b...</td>\n",
       "      <td>Danny</td>\n",
       "      <td>http://ufcstats.com/fighter-details/15df64c02b...</td>\n",
       "      <td>Abbadi</td>\n",
       "      <td>http://ufcstats.com/fighter-details/15df64c02b...</td>\n",
       "      <td>The Assassin</td>\n",
       "      <td>5' 11\"</td>\n",
       "      <td>155 lbs.</td>\n",
       "      <td>--</td>\n",
       "      <td>Orthodox</td>\n",
       "      <td>4</td>\n",
       "      <td>6</td>\n",
       "      <td>0</td>\n",
       "      <td></td>\n",
       "    </tr>\n",
       "    <tr>\n",
       "      <th>2</th>\n",
       "      <td>http://ufcstats.com/fighter-details/b361180739...</td>\n",
       "      <td>David</td>\n",
       "      <td>http://ufcstats.com/fighter-details/b361180739...</td>\n",
       "      <td>Abbott</td>\n",
       "      <td>http://ufcstats.com/fighter-details/b361180739...</td>\n",
       "      <td>Tank</td>\n",
       "      <td>6' 0\"</td>\n",
       "      <td>265 lbs.</td>\n",
       "      <td>--</td>\n",
       "      <td>Switch</td>\n",
       "      <td>10</td>\n",
       "      <td>14</td>\n",
       "      <td>0</td>\n",
       "      <td></td>\n",
       "    </tr>\n",
       "    <tr>\n",
       "      <th>3</th>\n",
       "      <td>http://ufcstats.com/fighter-details/2f5cbecbbe...</td>\n",
       "      <td>Shamil</td>\n",
       "      <td>http://ufcstats.com/fighter-details/2f5cbecbbe...</td>\n",
       "      <td>Abdurakhimov</td>\n",
       "      <td>http://ufcstats.com/fighter-details/2f5cbecbbe...</td>\n",
       "      <td>Abrek</td>\n",
       "      <td>6' 3\"</td>\n",
       "      <td>235 lbs.</td>\n",
       "      <td>76.0\"</td>\n",
       "      <td>Orthodox</td>\n",
       "      <td>20</td>\n",
       "      <td>4</td>\n",
       "      <td>0</td>\n",
       "      <td></td>\n",
       "    </tr>\n",
       "    <tr>\n",
       "      <th>4</th>\n",
       "      <td>http://ufcstats.com/fighter-details/c0ed7b2081...</td>\n",
       "      <td>Hiroyuki</td>\n",
       "      <td>http://ufcstats.com/fighter-details/c0ed7b2081...</td>\n",
       "      <td>Abe</td>\n",
       "      <td>http://ufcstats.com/fighter-details/c0ed7b2081...</td>\n",
       "      <td>Abe Ani</td>\n",
       "      <td>5' 6\"</td>\n",
       "      <td>145 lbs.</td>\n",
       "      <td>--</td>\n",
       "      <td>Orthodox</td>\n",
       "      <td>8</td>\n",
       "      <td>14</td>\n",
       "      <td>3</td>\n",
       "      <td></td>\n",
       "    </tr>\n",
       "  </tbody>\n",
       "</table>\n",
       "</div>"
      ],
      "text/plain": [
       "                                               link1 First Name  \\\n",
       "0  http://ufcstats.com/fighter-details/93fe7332d1...        Tom   \n",
       "1  http://ufcstats.com/fighter-details/15df64c02b...      Danny   \n",
       "2  http://ufcstats.com/fighter-details/b361180739...      David   \n",
       "3  http://ufcstats.com/fighter-details/2f5cbecbbe...     Shamil   \n",
       "4  http://ufcstats.com/fighter-details/c0ed7b2081...   Hiroyuki   \n",
       "\n",
       "                                               link2     Last Name  \\\n",
       "0  http://ufcstats.com/fighter-details/93fe7332d1...         Aaron   \n",
       "1  http://ufcstats.com/fighter-details/15df64c02b...        Abbadi   \n",
       "2  http://ufcstats.com/fighter-details/b361180739...        Abbott   \n",
       "3  http://ufcstats.com/fighter-details/2f5cbecbbe...  Abdurakhimov   \n",
       "4  http://ufcstats.com/fighter-details/c0ed7b2081...           Abe   \n",
       "\n",
       "                                               link3     Nick Name  Height  \\\n",
       "0  http://ufcstats.com/fighter-details/93fe7332d1...                    --   \n",
       "1  http://ufcstats.com/fighter-details/15df64c02b...  The Assassin  5' 11\"   \n",
       "2  http://ufcstats.com/fighter-details/b361180739...          Tank   6' 0\"   \n",
       "3  http://ufcstats.com/fighter-details/2f5cbecbbe...         Abrek   6' 3\"   \n",
       "4  http://ufcstats.com/fighter-details/c0ed7b2081...       Abe Ani   5' 6\"   \n",
       "\n",
       "     Weight  Reach    Stance Win Loss Draw Champion Status  \n",
       "0  155 lbs.     --             5    3    0                  \n",
       "1  155 lbs.     --  Orthodox   4    6    0                  \n",
       "2  265 lbs.     --    Switch  10   14    0                  \n",
       "3  235 lbs.  76.0\"  Orthodox  20    4    0                  \n",
       "4  145 lbs.     --  Orthodox   8   14    3                  "
      ]
     },
     "execution_count": 6,
     "metadata": {},
     "output_type": "execute_result"
    }
   ],
   "source": [
    "A_list.head()"
   ]
  },
  {
   "cell_type": "code",
   "execution_count": 8,
   "metadata": {
    "scrolled": true
   },
   "outputs": [
    {
     "name": "stdout",
     "output_type": "stream",
     "text": [
      "Level 1\n",
      "http://ufcstats.com/fighter-details/93fe7332d16c6ad9\n",
      "Level 2\n",
      "HEIGHT: --\n",
      "WEIGHT: 155 lbs.\n",
      "REACH: --\n",
      "STANCE:\n",
      "DOB: Jul 13, 1978\n",
      "CAREER STATISTICS:\n",
      "SLpM: 0.00\n",
      "Str. Acc.: 0%\n",
      "SApM: 0.00\n",
      "Str. Def: 0%\n",
      "TD Avg.: 0.00\n",
      "TD Acc.: 0%\n",
      "TD Def.: 0%\n",
      "Sub. Avg.: 0.0\n",
      "\n",
      "SLpM - Significant Strikes Landed per Minute\n",
      "\n",
      "Str. Acc. - Significant Striking Accuracy\n",
      "\n",
      "SApM - Significant Strikes Absorbed per Minute\n",
      "\n",
      "Str. Def. - Significant Strike Defence (the % of opponents strikes that did not land)\n",
      "\n",
      "TD Avg. - Average Takedowns Landed per 15 minutes\n",
      "\n",
      "TD Acc. - Takedown Accuracy\n",
      "\n",
      "TD Def. - Takedown Defense (the % of opponents TD attempts that did not land)\n",
      "\n",
      "Sub. Avg. - Average Submissions Attempted per 15 minutes\n",
      "\n",
      "Click on row to see detailed stats\n",
      "W/L\tFIGHTER\tSTR\tTD\tSUB\tPASS\tEVENT\tMETHOD\tROUND\tTIME\n",
      "\n",
      "\n",
      "\n",
      "LOSS\n",
      "\n",
      "\t\n",
      "\n",
      "Tom Aaron\n",
      "\n",
      "Matt Ricehouse\n",
      "\n",
      "\t\n",
      "\n",
      "0\n",
      "\n",
      "0\n",
      "\n",
      "\t\n",
      "\n",
      "0\n",
      "\n",
      "0\n",
      "\n",
      "\t\n",
      "\n",
      "0\n",
      "\n",
      "0\n",
      "\n",
      "\t\n",
      "\n",
      "0\n",
      "\n",
      "0\n",
      "\n",
      "\t\n",
      "\n",
      "Strikeforce - Henderson vs. Babalu\n",
      "\n",
      "Dec. 04, 2010\n",
      "\n",
      "\t\n",
      "\n",
      "U-DEC\n",
      "\n",
      "\t\n",
      "\n",
      "3\n",
      "\n",
      "\t\n",
      "\n",
      "5:00\n",
      "\n",
      "\n",
      "\n",
      "\n",
      "WIN\n",
      "\n",
      "\t\n",
      "\n",
      "Tom Aaron\n",
      "\n",
      "Eric Steenberg\n",
      "\n",
      "\t\n",
      "\n",
      "0\n",
      "\n",
      "0\n",
      "\n",
      "\t\n",
      "\n",
      "0\n",
      "\n",
      "0\n",
      "\n",
      "\t\n",
      "\n",
      "0\n",
      "\n",
      "0\n",
      "\n",
      "\t\n",
      "\n",
      "0\n",
      "\n",
      "0\n",
      "\n",
      "\t\n",
      "\n",
      "Strikeforce - Heavy Artillery\n",
      "\n",
      "May. 15, 2010\n",
      "\n",
      "\t\n",
      "\n",
      "SUB\n",
      "\n",
      "Guillotine Choke\n",
      "\n",
      "\t\n",
      "\n",
      "1\n",
      "\n",
      "\t\n",
      "\n",
      "0:56\n",
      "Complete\n"
     ]
    }
   ],
   "source": [
    "# \n",
    "\n",
    "import time\n",
    "data = list(A_list[\"link1\"])\n",
    "# THIS IS JUST FOR ONE FIGHTER\n",
    "for link in list(A_list[\"link1\"][:1]):\n",
    "    print(\"Level 1\")\n",
    "    print(link)\n",
    "    soup = BeautifulSoup \n",
    "    # Set the executable path and initialize the chrome browser \n",
    "    executable_path = {'executable_path': 'chromedriver.exe'}\n",
    "    browser = Browser('chrome', **executable_path)\n",
    "    browser.visit(link)\n",
    "    print(\"Level 2\")\n",
    "    response = requests.get(url)\n",
    "    soup = BeautifulSoup(response.text, 'html.parser')\n",
    "#     #print(soup.prettify())\n",
    "    time.sleep(5)\n",
    "#     data_b_stats = soup.find_all(\"div\", attrs={\"class\": \"b-fight-details b-fight-details_margin-top\"})\n",
    "    tom_aaron_data = browser.execute_script(\"return document.getElementsByClassName('b-fight-details b-fight-details_margin-top')[0].innerText\")\n",
    "#   print(browser.execute_script(\"return document.getElementsByClassName('b-fight-details b-fight-details_margin-top')[0].innerText\"))\n",
    "    print(tom_aaron_data)\n",
    "    print(\"Complete\")\n",
    "#     print(data_b_stats)\n",
    "#     print(\"Complete\")\n",
    "\n",
    "\n"
   ]
  },
  {
   "cell_type": "code",
   "execution_count": 14,
   "metadata": {},
   "outputs": [
    {
     "name": "stdout",
     "output_type": "stream",
     "text": [
      "['HEIGHT: --', 'WEIGHT: 155 lbs.', 'REACH: --', 'STANCE:', 'DOB: Jul 13, 1978', 'CAREER STATISTICS:', 'SLpM: 0.00', 'Str. Acc.: 0%', 'SApM: 0.00', 'Str. Def: 0%', 'TD Avg.: 0.00', 'TD Acc.: 0%', 'TD Def.: 0%', 'Sub. Avg.: 0.0', '', 'SLpM - Significant Strikes Landed per Minute', '', 'Str. Acc. - Significant Striking Accuracy', '', 'SApM - Significant Strikes Absorbed per Minute', '', 'Str. Def. - Significant Strike Defence (the % of opponents strikes that did not land)', '', 'TD Avg. - Average Takedowns Landed per 15 minutes', '', 'TD Acc. - Takedown Accuracy', '', 'TD Def. - Takedown Defense (the % of opponents TD attempts that did not land)', '', 'Sub. Avg. - Average Submissions Attempted per 15 minutes', '', 'Click on row to see detailed stats', 'W/L\\tFIGHTER\\tSTR\\tTD\\tSUB\\tPASS\\tEVENT\\tMETHOD\\tROUND\\tTIME', '', '', '', 'LOSS', '', '\\t', '', 'Tom Aaron', '', 'Matt Ricehouse', '', '\\t', '', '0', '', '0', '', '\\t', '', '0', '', '0', '', '\\t', '', '0', '', '0', '', '\\t', '', '0', '', '0', '', '\\t', '', 'Strikeforce - Henderson vs. Babalu', '', 'Dec. 04, 2010', '', '\\t', '', 'U-DEC', '', '\\t', '', '3', '', '\\t', '', '5:00', '', '', '', '', 'WIN', '', '\\t', '', 'Tom Aaron', '', 'Eric Steenberg', '', '\\t', '', '0', '', '0', '', '\\t', '', '0', '', '0', '', '\\t', '', '0', '', '0', '', '\\t', '', '0', '', '0', '', '\\t', '', 'Strikeforce - Heavy Artillery', '', 'May. 15, 2010', '', '\\t', '', 'SUB', '', 'Guillotine Choke', '', '\\t', '', '1', '', '\\t', '', '0:56']\n"
     ]
    }
   ],
   "source": [
    "#/n will split it by new line, we need new line by key and value\n",
    "# if you remove it, it will split it by white space\n",
    "# convert to dictionary\n",
    "\n",
    "print(tom_aaron_data.split(\"\\n\"))"
   ]
  },
  {
   "cell_type": "code",
   "execution_count": 9,
   "metadata": {},
   "outputs": [
    {
     "data": {
      "text/plain": [
       "1030"
      ]
     },
     "execution_count": 9,
     "metadata": {},
     "output_type": "execute_result"
    }
   ],
   "source": [
    "len(tom_aaron_data)"
   ]
  },
  {
   "cell_type": "code",
   "execution_count": 10,
   "metadata": {},
   "outputs": [
    {
     "ename": "ValueError",
     "evalue": "DataFrame constructor not properly called!",
     "output_type": "error",
     "traceback": [
      "\u001b[1;31m---------------------------------------------------------------------------\u001b[0m",
      "\u001b[1;31mValueError\u001b[0m                                Traceback (most recent call last)",
      "\u001b[1;32m<ipython-input-10-b232f8d6a81d>\u001b[0m in \u001b[0;36m<module>\u001b[1;34m\u001b[0m\n\u001b[1;32m----> 1\u001b[1;33m \u001b[0mtom_aaron_df\u001b[0m \u001b[1;33m=\u001b[0m\u001b[0mpd\u001b[0m\u001b[1;33m.\u001b[0m\u001b[0mDataFrame\u001b[0m\u001b[1;33m(\u001b[0m\u001b[0mtom_aaron_data\u001b[0m\u001b[1;33m,\u001b[0m \u001b[0mcolumns\u001b[0m\u001b[1;33m=\u001b[0m\u001b[1;33m[\u001b[0m\u001b[1;34m'link1'\u001b[0m\u001b[1;33m,\u001b[0m \u001b[1;34m'First Name'\u001b[0m\u001b[1;33m,\u001b[0m \u001b[1;34m\"link2\"\u001b[0m\u001b[1;33m,\u001b[0m \u001b[1;34m\"Last Name\"\u001b[0m\u001b[1;33m,\u001b[0m \u001b[1;34m\"link3\"\u001b[0m\u001b[1;33m,\u001b[0m \u001b[1;34m\"Nick Name\"\u001b[0m\u001b[1;33m,\u001b[0m \u001b[1;34m\"Height\"\u001b[0m\u001b[1;33m,\u001b[0m \u001b[1;34m\"Weight\"\u001b[0m\u001b[1;33m,\u001b[0m \u001b[1;34m\"Reach\"\u001b[0m\u001b[1;33m,\u001b[0m \u001b[1;34m\"Stance\"\u001b[0m\u001b[1;33m,\u001b[0m \u001b[1;34m\"Win\"\u001b[0m\u001b[1;33m]\u001b[0m\u001b[1;33m)\u001b[0m\u001b[1;33m\u001b[0m\u001b[1;33m\u001b[0m\u001b[0m\n\u001b[0m\u001b[0;32m      2\u001b[0m \u001b[0mtom_aaron_df\u001b[0m\u001b[1;33m\u001b[0m\u001b[1;33m\u001b[0m\u001b[0m\n",
      "\u001b[1;32m~\\Anaconda3\\lib\\site-packages\\pandas\\core\\frame.py\u001b[0m in \u001b[0;36m__init__\u001b[1;34m(self, data, index, columns, dtype, copy)\u001b[0m\n\u001b[0;32m    420\u001b[0m                                          dtype=values.dtype, copy=False)\n\u001b[0;32m    421\u001b[0m             \u001b[1;32melse\u001b[0m\u001b[1;33m:\u001b[0m\u001b[1;33m\u001b[0m\u001b[1;33m\u001b[0m\u001b[0m\n\u001b[1;32m--> 422\u001b[1;33m                 \u001b[1;32mraise\u001b[0m \u001b[0mValueError\u001b[0m\u001b[1;33m(\u001b[0m\u001b[1;34m'DataFrame constructor not properly called!'\u001b[0m\u001b[1;33m)\u001b[0m\u001b[1;33m\u001b[0m\u001b[1;33m\u001b[0m\u001b[0m\n\u001b[0m\u001b[0;32m    423\u001b[0m \u001b[1;33m\u001b[0m\u001b[0m\n\u001b[0;32m    424\u001b[0m         \u001b[0mNDFrame\u001b[0m\u001b[1;33m.\u001b[0m\u001b[0m__init__\u001b[0m\u001b[1;33m(\u001b[0m\u001b[0mself\u001b[0m\u001b[1;33m,\u001b[0m \u001b[0mmgr\u001b[0m\u001b[1;33m,\u001b[0m \u001b[0mfastpath\u001b[0m\u001b[1;33m=\u001b[0m\u001b[1;32mTrue\u001b[0m\u001b[1;33m)\u001b[0m\u001b[1;33m\u001b[0m\u001b[1;33m\u001b[0m\u001b[0m\n",
      "\u001b[1;31mValueError\u001b[0m: DataFrame constructor not properly called!"
     ]
    }
   ],
   "source": [
    "tom_aaron_df =pd.DataFrame(tom_aaron_data, columns=['link1', 'First Name', \"link2\", \"Last Name\", \"link3\", \"Nick Name\", \"Height\", \"Weight\", \"Reach\", \"Stance\", \"Win\"])\n",
    "tom_aaron_df"
   ]
  },
  {
   "cell_type": "code",
   "execution_count": null,
   "metadata": {},
   "outputs": [],
   "source": [
    "A_list.drop([\"link1\", \"link2\", \"link3\"], axis=1).head()"
   ]
  },
  {
   "cell_type": "code",
   "execution_count": null,
   "metadata": {},
   "outputs": [],
   "source": [
    "import pandas as pd\n",
    "A_list.to_csv('A_list.csv', index=False,)"
   ]
  },
  {
   "cell_type": "code",
   "execution_count": null,
   "metadata": {},
   "outputs": [],
   "source": []
  },
  {
   "cell_type": "code",
   "execution_count": null,
   "metadata": {},
   "outputs": [],
   "source": []
  },
  {
   "cell_type": "markdown",
   "metadata": {},
   "source": [
    "## B Fighter Scraped"
   ]
  },
  {
   "cell_type": "code",
   "execution_count": null,
   "metadata": {},
   "outputs": [],
   "source": [
    "url = 'http://ufcstats.com/statistics/fighters?char=b&page=all'\n",
    "browser.visit(url)\n",
    "response = requests.get(url)\n",
    "print(response)"
   ]
  },
  {
   "cell_type": "code",
   "execution_count": null,
   "metadata": {},
   "outputs": [],
   "source": [
    "fighters_soup = soup.find_all('tr')\n",
    "print(fighters_soup).text"
   ]
  },
  {
   "cell_type": "code",
   "execution_count": null,
   "metadata": {},
   "outputs": [],
   "source": [
    "#data_b_links = soup.find_all(\"a\", attrs={\"class\": \"b-link\"})\n",
    "data_b_stats = soup.find_all(\"td\", attrs={\"class\": \"b-statistics__table-col\"})\n",
    "data_b_stats\n",
    "\n",
    "\n",
    "\n",
    "link_list = []\n",
    "for fighter_link in data_b_stats:\n",
    "    if(fighter_link.a):\n",
    "        link_list.append(fighter_link.a[\"href\"])\n",
    "        link_list.append(fighter_link.get_text().strip())\n",
    "    else:\n",
    "        link_list.append(fighter_link.get_text().strip())\n",
    "final_data = []\n",
    "for index in range(0, len(link_list), 14):\n",
    "    final_data.append(link_list[index:index+14])\n",
    "\n",
    "\n",
    "B_list =pd.DataFrame(final_data, columns=['link1', 'First Name', \"link2\", \"Last Name\", \"link3\", \"Nick Name\", \"Height\", \"Weight\", \"Reach\", \"Stance\", \"Win\", \"Loss\", \"Draw\", \"Champion Status\"])"
   ]
  },
  {
   "cell_type": "code",
   "execution_count": null,
   "metadata": {},
   "outputs": [],
   "source": [
    "B_list.head()"
   ]
  },
  {
   "cell_type": "code",
   "execution_count": null,
   "metadata": {},
   "outputs": [],
   "source": [
    "B_list.drop([\"link1\", \"link2\", \"link3\"], axis=1).head()"
   ]
  },
  {
   "cell_type": "code",
   "execution_count": null,
   "metadata": {},
   "outputs": [],
   "source": [
    "B_list.to_csv('B_list.csv', index=False,)"
   ]
  },
  {
   "cell_type": "code",
   "execution_count": null,
   "metadata": {},
   "outputs": [],
   "source": []
  },
  {
   "cell_type": "markdown",
   "metadata": {},
   "source": [
    "## C Fighter Scraped"
   ]
  },
  {
   "cell_type": "code",
   "execution_count": null,
   "metadata": {},
   "outputs": [],
   "source": [
    "url = 'http://ufcstats.com/statistics/fighters?char=c&page=all'\n",
    "browser.visit(url)\n",
    "response = requests.get(url)\n",
    "print(response)"
   ]
  },
  {
   "cell_type": "code",
   "execution_count": null,
   "metadata": {},
   "outputs": [],
   "source": [
    "soup = BeautifulSoup(response.text, 'html.parser')\n",
    "print(soup.prettify())"
   ]
  },
  {
   "cell_type": "code",
   "execution_count": null,
   "metadata": {},
   "outputs": [],
   "source": [
    "fighters_soup = soup.find_all('tr')\n",
    "print(fighters_soup).text"
   ]
  },
  {
   "cell_type": "code",
   "execution_count": null,
   "metadata": {},
   "outputs": [],
   "source": [
    "#data_b_links = soup.find_all(\"a\", attrs={\"class\": \"b-link\"})\n",
    "data_b_stats = soup.find_all(\"td\", attrs={\"class\": \"b-statistics__table-col\"})\n",
    "data_b_stats\n",
    "\n",
    "\n",
    "\n",
    "link_list = []\n",
    "for fighter_link in data_b_stats:\n",
    "    if(fighter_link.a):\n",
    "        link_list.append(fighter_link.a[\"href\"])\n",
    "        link_list.append(fighter_link.get_text().strip())\n",
    "    else:\n",
    "        link_list.append(fighter_link.get_text().strip())\n",
    "final_data = []\n",
    "for index in range(0, len(link_list), 14):\n",
    "    final_data.append(link_list[index:index+14])\n",
    "\n",
    "\n",
    "C_list =pd.DataFrame(final_data, columns=['link1', 'First Name', \"link2\", \"Last Name\", \"link3\", \"Nick Name\", \"Height\", \"Weight\", \"Reach\", \"Stance\", \"Win\", \"Loss\", \"Draw\", \"Champion Status\"])"
   ]
  },
  {
   "cell_type": "code",
   "execution_count": null,
   "metadata": {},
   "outputs": [],
   "source": [
    "C_list.head()"
   ]
  },
  {
   "cell_type": "code",
   "execution_count": null,
   "metadata": {},
   "outputs": [],
   "source": [
    "C_list.drop([\"link1\", \"link2\", \"link3\"], axis=1).head()"
   ]
  },
  {
   "cell_type": "code",
   "execution_count": null,
   "metadata": {},
   "outputs": [],
   "source": [
    "C_list.to_csv('C_list.csv', index=False,)"
   ]
  },
  {
   "cell_type": "code",
   "execution_count": null,
   "metadata": {},
   "outputs": [],
   "source": []
  },
  {
   "cell_type": "markdown",
   "metadata": {},
   "source": [
    "## D Fighter Scraped"
   ]
  },
  {
   "cell_type": "code",
   "execution_count": null,
   "metadata": {},
   "outputs": [],
   "source": [
    "url = 'http://ufcstats.com/statistics/fighters?char=d&page=all'\n",
    "browser.visit(url)\n",
    "response = requests.get(url)\n",
    "print(response)"
   ]
  },
  {
   "cell_type": "code",
   "execution_count": null,
   "metadata": {},
   "outputs": [],
   "source": [
    "soup = BeautifulSoup(response.text, 'html.parser')\n",
    "#print(soup.prettify())"
   ]
  },
  {
   "cell_type": "code",
   "execution_count": null,
   "metadata": {},
   "outputs": [],
   "source": [
    "fighters_soup = soup.find_all('tr')\n",
    "#print(fighters_soup).text"
   ]
  },
  {
   "cell_type": "code",
   "execution_count": null,
   "metadata": {},
   "outputs": [],
   "source": [
    "#data_b_links = soup.find_all(\"a\", attrs={\"class\": \"b-link\"})\n",
    "data_b_stats = soup.find_all(\"td\", attrs={\"class\": \"b-statistics__table-col\"})\n",
    "data_b_stats\n",
    "\n",
    "\n",
    "\n",
    "link_list = []\n",
    "for fighter_link in data_b_stats:\n",
    "    if(fighter_link.a):\n",
    "        link_list.append(fighter_link.a[\"href\"])\n",
    "        link_list.append(fighter_link.get_text().strip())\n",
    "    else:\n",
    "        link_list.append(fighter_link.get_text().strip())\n",
    "final_data = []\n",
    "for index in range(0, len(link_list), 14):\n",
    "    final_data.append(link_list[index:index+14])\n",
    "\n",
    "\n",
    "D_list =pd.DataFrame(final_data, columns=['link1', 'First Name', \"link2\", \"Last Name\", \"link3\", \"Nick Name\", \"Height\", \"Weight\", \"Reach\", \"Stance\", \"Win\", \"Loss\", \"Draw\", \"Champion Status\"])"
   ]
  },
  {
   "cell_type": "code",
   "execution_count": null,
   "metadata": {},
   "outputs": [],
   "source": [
    "D_list.head()"
   ]
  },
  {
   "cell_type": "code",
   "execution_count": null,
   "metadata": {},
   "outputs": [],
   "source": [
    "D_list.drop([\"link1\", \"link2\", \"link3\"], axis=1).head()"
   ]
  },
  {
   "cell_type": "code",
   "execution_count": null,
   "metadata": {},
   "outputs": [],
   "source": [
    "D_list.to_csv('D_list.csv', index=False,)"
   ]
  },
  {
   "cell_type": "code",
   "execution_count": null,
   "metadata": {},
   "outputs": [],
   "source": []
  },
  {
   "cell_type": "markdown",
   "metadata": {},
   "source": [
    "## E Fighters Scraped "
   ]
  },
  {
   "cell_type": "code",
   "execution_count": null,
   "metadata": {},
   "outputs": [],
   "source": [
    "url = 'http://ufcstats.com/statistics/fighters?char=e&page=all'\n",
    "browser.visit(url)\n",
    "response = requests.get(url)\n",
    "print(response)"
   ]
  },
  {
   "cell_type": "code",
   "execution_count": null,
   "metadata": {},
   "outputs": [],
   "source": [
    "soup = BeautifulSoup(response.text, 'html.parser')\n",
    "#print(soup.prettify())"
   ]
  },
  {
   "cell_type": "code",
   "execution_count": null,
   "metadata": {},
   "outputs": [],
   "source": [
    "fighters_soup = soup.find_all('tr')\n",
    "#print(fighters_soup).text"
   ]
  },
  {
   "cell_type": "code",
   "execution_count": null,
   "metadata": {},
   "outputs": [],
   "source": [
    "#data_b_links = soup.find_all(\"a\", attrs={\"class\": \"b-link\"})\n",
    "data_b_stats = soup.find_all(\"td\", attrs={\"class\": \"b-statistics__table-col\"})\n",
    "data_b_stats\n",
    "\n",
    "\n",
    "\n",
    "link_list = []\n",
    "for fighter_link in data_b_stats:\n",
    "    if(fighter_link.a):\n",
    "        link_list.append(fighter_link.a[\"href\"])\n",
    "        link_list.append(fighter_link.get_text().strip())\n",
    "    else:\n",
    "        link_list.append(fighter_link.get_text().strip())\n",
    "final_data = []\n",
    "for index in range(0, len(link_list), 14):\n",
    "    final_data.append(link_list[index:index+14])\n",
    "\n",
    "\n",
    "E_list =pd.DataFrame(final_data, columns=['link1', 'First Name', \"link2\", \"Last Name\", \"link3\", \"Nick Name\", \"Height\", \"Weight\", \"Reach\", \"Stance\", \"Win\", \"Loss\", \"Draw\", \"Champion Status\"])"
   ]
  },
  {
   "cell_type": "code",
   "execution_count": null,
   "metadata": {},
   "outputs": [],
   "source": [
    "E_list.head()"
   ]
  },
  {
   "cell_type": "code",
   "execution_count": null,
   "metadata": {},
   "outputs": [],
   "source": [
    "E_list.drop([\"link1\", \"link2\", \"link3\"], axis=1).head()"
   ]
  },
  {
   "cell_type": "code",
   "execution_count": null,
   "metadata": {},
   "outputs": [],
   "source": [
    "E_list.to_csv('E_list.csv', index=False,)"
   ]
  },
  {
   "cell_type": "code",
   "execution_count": null,
   "metadata": {},
   "outputs": [],
   "source": []
  },
  {
   "cell_type": "markdown",
   "metadata": {},
   "source": [
    "## F Fighters Scraped"
   ]
  },
  {
   "cell_type": "code",
   "execution_count": null,
   "metadata": {},
   "outputs": [],
   "source": [
    "url = 'http://ufcstats.com/statistics/fighters?char=f&page=all'\n",
    "browser.visit(url)\n",
    "response = requests.get(url)\n",
    "print(response)"
   ]
  },
  {
   "cell_type": "code",
   "execution_count": null,
   "metadata": {},
   "outputs": [],
   "source": [
    "soup = BeautifulSoup(response.text, 'html.parser')\n",
    "#print(soup.prettify())"
   ]
  },
  {
   "cell_type": "code",
   "execution_count": null,
   "metadata": {},
   "outputs": [],
   "source": [
    "fighters_soup = soup.find_all('tr')\n",
    "#print(fighters_soup).text"
   ]
  },
  {
   "cell_type": "code",
   "execution_count": null,
   "metadata": {},
   "outputs": [],
   "source": [
    "#data_b_links = soup.find_all(\"a\", attrs={\"class\": \"b-link\"})\n",
    "data_b_stats = soup.find_all(\"td\", attrs={\"class\": \"b-statistics__table-col\"})\n",
    "data_b_stats\n",
    "\n",
    "\n",
    "\n",
    "link_list = []\n",
    "for fighter_link in data_b_stats:\n",
    "    if(fighter_link.a):\n",
    "        link_list.append(fighter_link.a[\"href\"])\n",
    "        link_list.append(fighter_link.get_text().strip())\n",
    "    else:\n",
    "        link_list.append(fighter_link.get_text().strip())\n",
    "final_data = []\n",
    "for index in range(0, len(link_list), 14):\n",
    "    final_data.append(link_list[index:index+14])\n",
    "\n",
    "\n",
    "F_list =pd.DataFrame(final_data, columns=['link1', 'First Name', \"link2\", \"Last Name\", \"link3\", \"Nick Name\", \"Height\", \"Weight\", \"Reach\", \"Stance\", \"Win\", \"Loss\", \"Draw\", \"Champion Status\"])"
   ]
  },
  {
   "cell_type": "code",
   "execution_count": null,
   "metadata": {},
   "outputs": [],
   "source": [
    "F_list.head()"
   ]
  },
  {
   "cell_type": "code",
   "execution_count": null,
   "metadata": {},
   "outputs": [],
   "source": [
    "F_list.drop([\"link1\", \"link2\", \"link3\"], axis=1).head()"
   ]
  },
  {
   "cell_type": "code",
   "execution_count": null,
   "metadata": {},
   "outputs": [],
   "source": [
    "F_list.to_csv('F_list.csv', index=False,)"
   ]
  },
  {
   "cell_type": "code",
   "execution_count": null,
   "metadata": {},
   "outputs": [],
   "source": []
  },
  {
   "cell_type": "markdown",
   "metadata": {},
   "source": [
    "## G Fighters Scraped"
   ]
  },
  {
   "cell_type": "code",
   "execution_count": null,
   "metadata": {},
   "outputs": [],
   "source": [
    "url = 'http://ufcstats.com/statistics/fighters?char=g&page=all'\n",
    "browser.visit(url)\n",
    "response = requests.get(url)\n",
    "print(response)"
   ]
  },
  {
   "cell_type": "code",
   "execution_count": null,
   "metadata": {},
   "outputs": [],
   "source": [
    "soup = BeautifulSoup(response.text, 'html.parser')\n",
    "#print(soup.prettify())"
   ]
  },
  {
   "cell_type": "code",
   "execution_count": null,
   "metadata": {},
   "outputs": [],
   "source": [
    "fighters_soup = soup.find_all('tr')\n",
    "#print(fighters_soup).text"
   ]
  },
  {
   "cell_type": "code",
   "execution_count": null,
   "metadata": {},
   "outputs": [],
   "source": [
    "#data_b_links = soup.find_all(\"a\", attrs={\"class\": \"b-link\"})\n",
    "data_b_stats = soup.find_all(\"td\", attrs={\"class\": \"b-statistics__table-col\"})\n",
    "data_b_stats\n",
    "\n",
    "\n",
    "\n",
    "link_list = []\n",
    "for fighter_link in data_b_stats:\n",
    "    if(fighter_link.a):\n",
    "        link_list.append(fighter_link.a[\"href\"])\n",
    "        link_list.append(fighter_link.get_text().strip())\n",
    "    else:\n",
    "        link_list.append(fighter_link.get_text().strip())\n",
    "final_data = []\n",
    "for index in range(0, len(link_list), 14):\n",
    "    final_data.append(link_list[index:index+14])\n",
    "\n",
    "\n",
    "G_list =pd.DataFrame(final_data, columns=['link1', 'First Name', \"link2\", \"Last Name\", \"link3\", \"Nick Name\", \"Height\", \"Weight\", \"Reach\", \"Stance\", \"Win\", \"Loss\", \"Draw\", \"Champion Status\"])"
   ]
  },
  {
   "cell_type": "code",
   "execution_count": null,
   "metadata": {},
   "outputs": [],
   "source": [
    "G_list.head()"
   ]
  },
  {
   "cell_type": "code",
   "execution_count": null,
   "metadata": {},
   "outputs": [],
   "source": [
    "G_list.drop([\"link1\", \"link2\", \"link3\"], axis=1).head()"
   ]
  },
  {
   "cell_type": "code",
   "execution_count": null,
   "metadata": {},
   "outputs": [],
   "source": [
    "G_list.to_csv('G_list.csv', index=False,)"
   ]
  },
  {
   "cell_type": "code",
   "execution_count": null,
   "metadata": {},
   "outputs": [],
   "source": []
  },
  {
   "cell_type": "markdown",
   "metadata": {},
   "source": [
    "## H Fighters Scraped "
   ]
  },
  {
   "cell_type": "code",
   "execution_count": null,
   "metadata": {},
   "outputs": [],
   "source": []
  },
  {
   "cell_type": "code",
   "execution_count": null,
   "metadata": {},
   "outputs": [],
   "source": [
    "url = 'http://ufcstats.com/statistics/fighters?char=h&page=all'\n",
    "browser.visit(url)\n",
    "response = requests.get(url)\n",
    "print(response)"
   ]
  },
  {
   "cell_type": "code",
   "execution_count": null,
   "metadata": {},
   "outputs": [],
   "source": [
    "soup = BeautifulSoup(response.text, 'html.parser')\n",
    "#print(soup.prettify())"
   ]
  },
  {
   "cell_type": "code",
   "execution_count": null,
   "metadata": {},
   "outputs": [],
   "source": [
    "fighters_soup = soup.find_all('tr')\n",
    "#print(fighters_soup).text"
   ]
  },
  {
   "cell_type": "code",
   "execution_count": null,
   "metadata": {},
   "outputs": [],
   "source": [
    "#data_b_links = soup.find_all(\"a\", attrs={\"class\": \"b-link\"})\n",
    "data_b_stats = soup.find_all(\"td\", attrs={\"class\": \"b-statistics__table-col\"})\n",
    "data_b_stats\n",
    "\n",
    "\n",
    "\n",
    "link_list = []\n",
    "for fighter_link in data_b_stats:\n",
    "    if(fighter_link.a):\n",
    "        link_list.append(fighter_link.a[\"href\"])\n",
    "        link_list.append(fighter_link.get_text().strip())\n",
    "    else:\n",
    "        link_list.append(fighter_link.get_text().strip())\n",
    "final_data = []\n",
    "for index in range(0, len(link_list), 14):\n",
    "    final_data.append(link_list[index:index+14])\n",
    "\n",
    "\n",
    "H_list =pd.DataFrame(final_data, columns=['link1', 'First Name', \"link2\", \"Last Name\", \"link3\", \"Nick Name\", \"Height\", \"Weight\", \"Reach\", \"Stance\", \"Win\", \"Loss\", \"Draw\", \"Champion Status\"])"
   ]
  },
  {
   "cell_type": "code",
   "execution_count": null,
   "metadata": {},
   "outputs": [],
   "source": [
    "H_list.head()"
   ]
  },
  {
   "cell_type": "code",
   "execution_count": null,
   "metadata": {},
   "outputs": [],
   "source": [
    "H_list.drop([\"link1\", \"link2\", \"link3\"], axis=1).head()"
   ]
  },
  {
   "cell_type": "code",
   "execution_count": null,
   "metadata": {},
   "outputs": [],
   "source": [
    "H_list.to_csv('H_list.csv', index=False,)"
   ]
  },
  {
   "cell_type": "code",
   "execution_count": null,
   "metadata": {},
   "outputs": [],
   "source": []
  },
  {
   "cell_type": "markdown",
   "metadata": {},
   "source": [
    "## I Fighters Scraped "
   ]
  },
  {
   "cell_type": "code",
   "execution_count": null,
   "metadata": {},
   "outputs": [],
   "source": []
  },
  {
   "cell_type": "code",
   "execution_count": null,
   "metadata": {},
   "outputs": [],
   "source": [
    "url = 'http://ufcstats.com/statistics/fighters?char=i&page=all'\n",
    "browser.visit(url)\n",
    "response = requests.get(url)\n",
    "print(response)"
   ]
  },
  {
   "cell_type": "code",
   "execution_count": null,
   "metadata": {},
   "outputs": [],
   "source": [
    "soup = BeautifulSoup(response.text, 'html.parser')\n",
    "#print(soup.prettify())"
   ]
  },
  {
   "cell_type": "code",
   "execution_count": null,
   "metadata": {},
   "outputs": [],
   "source": [
    "fighters_soup = soup.find_all('tr')\n",
    "#print(fighters_soup).text"
   ]
  },
  {
   "cell_type": "code",
   "execution_count": null,
   "metadata": {},
   "outputs": [],
   "source": [
    "#data_b_links = soup.find_all(\"a\", attrs={\"class\": \"b-link\"})\n",
    "data_b_stats = soup.find_all(\"td\", attrs={\"class\": \"b-statistics__table-col\"})\n",
    "data_b_stats\n",
    "\n",
    "\n",
    "\n",
    "link_list = []\n",
    "for fighter_link in data_b_stats:\n",
    "    if(fighter_link.a):\n",
    "        link_list.append(fighter_link.a[\"href\"])\n",
    "        link_list.append(fighter_link.get_text().strip())\n",
    "    else:\n",
    "        link_list.append(fighter_link.get_text().strip())\n",
    "final_data = []\n",
    "for index in range(0, len(link_list), 14):\n",
    "    final_data.append(link_list[index:index+14])\n",
    "\n",
    "\n",
    "I_list =pd.DataFrame(final_data, columns=['link1', 'First Name', \"link2\", \"Last Name\", \"link3\", \"Nick Name\", \"Height\", \"Weight\", \"Reach\", \"Stance\", \"Win\", \"Loss\", \"Draw\", \"Champion Status\"])"
   ]
  },
  {
   "cell_type": "code",
   "execution_count": null,
   "metadata": {},
   "outputs": [],
   "source": [
    "I_list.head()"
   ]
  },
  {
   "cell_type": "code",
   "execution_count": null,
   "metadata": {},
   "outputs": [],
   "source": [
    "I_list.drop([\"link1\", \"link2\", \"link3\"], axis=1).head()"
   ]
  },
  {
   "cell_type": "code",
   "execution_count": null,
   "metadata": {},
   "outputs": [],
   "source": [
    "I_list.to_csv('I_list.csv', index=False,)"
   ]
  },
  {
   "cell_type": "code",
   "execution_count": null,
   "metadata": {},
   "outputs": [],
   "source": []
  },
  {
   "cell_type": "markdown",
   "metadata": {},
   "source": [
    "## J Fighters Scraped "
   ]
  },
  {
   "cell_type": "code",
   "execution_count": null,
   "metadata": {},
   "outputs": [],
   "source": []
  },
  {
   "cell_type": "code",
   "execution_count": null,
   "metadata": {},
   "outputs": [],
   "source": [
    "url = 'http://ufcstats.com/statistics/fighters?char=j&page=all'\n",
    "browser.visit(url)\n",
    "response = requests.get(url)\n",
    "print(response)"
   ]
  },
  {
   "cell_type": "code",
   "execution_count": null,
   "metadata": {},
   "outputs": [],
   "source": [
    "soup = BeautifulSoup(response.text, 'html.parser')\n",
    "#print(soup.prettify())"
   ]
  },
  {
   "cell_type": "code",
   "execution_count": null,
   "metadata": {},
   "outputs": [],
   "source": [
    "fighters_soup = soup.find_all('tr')\n",
    "#print(fighters_soup).text"
   ]
  },
  {
   "cell_type": "code",
   "execution_count": null,
   "metadata": {},
   "outputs": [],
   "source": [
    "#data_b_links = soup.find_all(\"a\", attrs={\"class\": \"b-link\"})\n",
    "data_b_stats = soup.find_all(\"td\", attrs={\"class\": \"b-statistics__table-col\"})\n",
    "data_b_stats\n",
    "\n",
    "\n",
    "\n",
    "link_list = []\n",
    "for fighter_link in data_b_stats:\n",
    "    if(fighter_link.a):\n",
    "        link_list.append(fighter_link.a[\"href\"])\n",
    "        link_list.append(fighter_link.get_text().strip())\n",
    "    else:\n",
    "        link_list.append(fighter_link.get_text().strip())\n",
    "final_data = []\n",
    "for index in range(0, len(link_list), 14):\n",
    "    final_data.append(link_list[index:index+14])\n",
    "\n",
    "\n",
    "J_list =pd.DataFrame(final_data, columns=['link1', 'First Name', \"link2\", \"Last Name\", \"link3\", \"Nick Name\", \"Height\", \"Weight\", \"Reach\", \"Stance\", \"Win\", \"Loss\", \"Draw\", \"Champion Status\"])"
   ]
  },
  {
   "cell_type": "code",
   "execution_count": null,
   "metadata": {},
   "outputs": [],
   "source": [
    "J_list.head()"
   ]
  },
  {
   "cell_type": "code",
   "execution_count": null,
   "metadata": {},
   "outputs": [],
   "source": [
    "J_list.drop([\"link1\", \"link2\", \"link3\"], axis=1).head()"
   ]
  },
  {
   "cell_type": "code",
   "execution_count": null,
   "metadata": {},
   "outputs": [],
   "source": [
    "J_list.to_csv('J_list.csv', index=False,)"
   ]
  },
  {
   "cell_type": "code",
   "execution_count": null,
   "metadata": {},
   "outputs": [],
   "source": []
  },
  {
   "cell_type": "markdown",
   "metadata": {},
   "source": [
    "## K Fighters Scraped "
   ]
  },
  {
   "cell_type": "code",
   "execution_count": null,
   "metadata": {},
   "outputs": [],
   "source": []
  },
  {
   "cell_type": "code",
   "execution_count": null,
   "metadata": {},
   "outputs": [],
   "source": [
    "url = 'http://ufcstats.com/statistics/fighters?char=k&page=all'\n",
    "browser.visit(url)\n",
    "response = requests.get(url)\n",
    "print(response)"
   ]
  },
  {
   "cell_type": "code",
   "execution_count": null,
   "metadata": {},
   "outputs": [],
   "source": [
    "soup = BeautifulSoup(response.text, 'html.parser')\n",
    "#print(soup.prettify())"
   ]
  },
  {
   "cell_type": "code",
   "execution_count": null,
   "metadata": {},
   "outputs": [],
   "source": [
    "fighters_soup = soup.find_all('tr')\n",
    "#print(fighters_soup).text"
   ]
  },
  {
   "cell_type": "code",
   "execution_count": null,
   "metadata": {},
   "outputs": [],
   "source": [
    "#data_b_links = soup.find_all(\"a\", attrs={\"class\": \"b-link\"})\n",
    "data_b_stats = soup.find_all(\"td\", attrs={\"class\": \"b-statistics__table-col\"})\n",
    "data_b_stats\n",
    "\n",
    "\n",
    "\n",
    "link_list = []\n",
    "for fighter_link in data_b_stats:\n",
    "    if(fighter_link.a):\n",
    "        link_list.append(fighter_link.a[\"href\"])\n",
    "        link_list.append(fighter_link.get_text().strip())\n",
    "    else:\n",
    "        link_list.append(fighter_link.get_text().strip())\n",
    "final_data = []\n",
    "for index in range(0, len(link_list), 14):\n",
    "    final_data.append(link_list[index:index+14])\n",
    "\n",
    "\n",
    "K_list =pd.DataFrame(final_data, columns=['link1', 'First Name', \"link2\", \"Last Name\", \"link3\", \"Nick Name\", \"Height\", \"Weight\", \"Reach\", \"Stance\", \"Win\", \"Loss\", \"Draw\", \"Champion Status\"])"
   ]
  },
  {
   "cell_type": "code",
   "execution_count": null,
   "metadata": {},
   "outputs": [],
   "source": [
    "K_list.head()"
   ]
  },
  {
   "cell_type": "code",
   "execution_count": null,
   "metadata": {},
   "outputs": [],
   "source": [
    "K_list.drop([\"link1\", \"link2\", \"link3\"], axis=1).head()"
   ]
  },
  {
   "cell_type": "code",
   "execution_count": null,
   "metadata": {},
   "outputs": [],
   "source": [
    "K_list.to_csv('K_list.csv', index=False,)"
   ]
  },
  {
   "cell_type": "code",
   "execution_count": null,
   "metadata": {},
   "outputs": [],
   "source": []
  },
  {
   "cell_type": "markdown",
   "metadata": {},
   "source": [
    "## L Fighters Scraped "
   ]
  },
  {
   "cell_type": "code",
   "execution_count": null,
   "metadata": {},
   "outputs": [],
   "source": []
  },
  {
   "cell_type": "code",
   "execution_count": null,
   "metadata": {},
   "outputs": [],
   "source": [
    "url = 'http://ufcstats.com/statistics/fighters?char=l&page=all'\n",
    "browser.visit(url)\n",
    "response = requests.get(url)\n",
    "print(response)"
   ]
  },
  {
   "cell_type": "code",
   "execution_count": null,
   "metadata": {},
   "outputs": [],
   "source": [
    "soup = BeautifulSoup(response.text, 'html.parser')\n",
    "#print(soup.prettify())"
   ]
  },
  {
   "cell_type": "code",
   "execution_count": null,
   "metadata": {},
   "outputs": [],
   "source": [
    "fighters_soup = soup.find_all('tr')\n",
    "#print(fighters_soup).text"
   ]
  },
  {
   "cell_type": "code",
   "execution_count": null,
   "metadata": {},
   "outputs": [],
   "source": [
    "#data_b_links = soup.find_all(\"a\", attrs={\"class\": \"b-link\"})\n",
    "data_b_stats = soup.find_all(\"td\", attrs={\"class\": \"b-statistics__table-col\"})\n",
    "data_b_stats\n",
    "\n",
    "\n",
    "\n",
    "link_list = []\n",
    "for fighter_link in data_b_stats:\n",
    "    if(fighter_link.a):\n",
    "        link_list.append(fighter_link.a[\"href\"])\n",
    "        link_list.append(fighter_link.get_text().strip())\n",
    "    else:\n",
    "        link_list.append(fighter_link.get_text().strip())\n",
    "final_data = []\n",
    "for index in range(0, len(link_list), 14):\n",
    "    final_data.append(link_list[index:index+14])\n",
    "\n",
    "\n",
    "L_list =pd.DataFrame(final_data, columns=['link1', 'First Name', \"link2\", \"Last Name\", \"link3\", \"Nick Name\", \"Height\", \"Weight\", \"Reach\", \"Stance\", \"Win\", \"Loss\", \"Draw\", \"Champion Status\"])"
   ]
  },
  {
   "cell_type": "code",
   "execution_count": null,
   "metadata": {},
   "outputs": [],
   "source": [
    "L_list.head()"
   ]
  },
  {
   "cell_type": "code",
   "execution_count": null,
   "metadata": {},
   "outputs": [],
   "source": [
    "L_list.drop([\"link1\", \"link2\", \"link3\"], axis=1).head()"
   ]
  },
  {
   "cell_type": "code",
   "execution_count": null,
   "metadata": {},
   "outputs": [],
   "source": [
    "L_list.to_csv('L_list.csv', index=False,)"
   ]
  },
  {
   "cell_type": "code",
   "execution_count": null,
   "metadata": {},
   "outputs": [],
   "source": []
  },
  {
   "cell_type": "markdown",
   "metadata": {},
   "source": [
    "## M Fighter Scraped "
   ]
  },
  {
   "cell_type": "code",
   "execution_count": null,
   "metadata": {},
   "outputs": [],
   "source": []
  },
  {
   "cell_type": "code",
   "execution_count": null,
   "metadata": {},
   "outputs": [],
   "source": [
    "url = 'http://ufcstats.com/statistics/fighters?char=m&page=all'\n",
    "browser.visit(url)\n",
    "response = requests.get(url)\n",
    "print(response)"
   ]
  },
  {
   "cell_type": "code",
   "execution_count": null,
   "metadata": {},
   "outputs": [],
   "source": [
    "soup = BeautifulSoup(response.text, 'html.parser')\n",
    "#print(soup.prettify())"
   ]
  },
  {
   "cell_type": "code",
   "execution_count": null,
   "metadata": {},
   "outputs": [],
   "source": [
    "fighters_soup = soup.find_all('tr')\n",
    "#print(fighters_soup).text"
   ]
  },
  {
   "cell_type": "code",
   "execution_count": null,
   "metadata": {},
   "outputs": [],
   "source": [
    "#data_b_links = soup.find_all(\"a\", attrs={\"class\": \"b-link\"})\n",
    "data_b_stats = soup.find_all(\"td\", attrs={\"class\": \"b-statistics__table-col\"})\n",
    "data_b_stats\n",
    "\n",
    "\n",
    "\n",
    "link_list = []\n",
    "for fighter_link in data_b_stats:\n",
    "    if(fighter_link.a):\n",
    "        link_list.append(fighter_link.a[\"href\"])\n",
    "        link_list.append(fighter_link.get_text().strip())\n",
    "    else:\n",
    "        link_list.append(fighter_link.get_text().strip())\n",
    "final_data = []\n",
    "for index in range(0, len(link_list), 14):\n",
    "    final_data.append(link_list[index:index+14])\n",
    "\n",
    "\n",
    "M_list =pd.DataFrame(final_data, columns=['link1', 'First Name', \"link2\", \"Last Name\", \"link3\", \"Nick Name\", \"Height\", \"Weight\", \"Reach\", \"Stance\", \"Win\", \"Loss\", \"Draw\", \"Champion Status\"])"
   ]
  },
  {
   "cell_type": "code",
   "execution_count": null,
   "metadata": {},
   "outputs": [],
   "source": [
    "M_list.head()"
   ]
  },
  {
   "cell_type": "code",
   "execution_count": null,
   "metadata": {},
   "outputs": [],
   "source": [
    "M_list.drop([\"link1\", \"link2\", \"link3\"], axis=1).head()"
   ]
  },
  {
   "cell_type": "code",
   "execution_count": null,
   "metadata": {},
   "outputs": [],
   "source": [
    "M_list.to_csv('M_list.csv', index=False,)"
   ]
  },
  {
   "cell_type": "code",
   "execution_count": null,
   "metadata": {},
   "outputs": [],
   "source": []
  },
  {
   "cell_type": "markdown",
   "metadata": {},
   "source": [
    "## N Fighters Scraped"
   ]
  },
  {
   "cell_type": "code",
   "execution_count": null,
   "metadata": {},
   "outputs": [],
   "source": []
  },
  {
   "cell_type": "code",
   "execution_count": null,
   "metadata": {},
   "outputs": [],
   "source": [
    "url = 'http://ufcstats.com/statistics/fighters?char=n&page=all'\n",
    "browser.visit(url)\n",
    "response = requests.get(url)\n",
    "print(response)"
   ]
  },
  {
   "cell_type": "code",
   "execution_count": null,
   "metadata": {},
   "outputs": [],
   "source": [
    "soup = BeautifulSoup(response.text, 'html.parser')\n",
    "#print(soup.prettify())"
   ]
  },
  {
   "cell_type": "code",
   "execution_count": null,
   "metadata": {},
   "outputs": [],
   "source": [
    "fighters_soup = soup.find_all('tr')\n",
    "#print(fighters_soup).text"
   ]
  },
  {
   "cell_type": "code",
   "execution_count": null,
   "metadata": {},
   "outputs": [],
   "source": [
    "#data_b_links = soup.find_all(\"a\", attrs={\"class\": \"b-link\"})\n",
    "data_b_stats = soup.find_all(\"td\", attrs={\"class\": \"b-statistics__table-col\"})\n",
    "data_b_stats\n",
    "\n",
    "\n",
    "\n",
    "link_list = []\n",
    "for fighter_link in data_b_stats:\n",
    "    if(fighter_link.a):\n",
    "        link_list.append(fighter_link.a[\"href\"])\n",
    "        link_list.append(fighter_link.get_text().strip())\n",
    "    else:\n",
    "        link_list.append(fighter_link.get_text().strip())\n",
    "final_data = []\n",
    "for index in range(0, len(link_list), 14):\n",
    "    final_data.append(link_list[index:index+14])\n",
    "\n",
    "\n",
    "N_list =pd.DataFrame(final_data, columns=['link1', 'First Name', \"link2\", \"Last Name\", \"link3\", \"Nick Name\", \"Height\", \"Weight\", \"Reach\", \"Stance\", \"Win\", \"Loss\", \"Draw\", \"Champion Status\"])"
   ]
  },
  {
   "cell_type": "code",
   "execution_count": null,
   "metadata": {},
   "outputs": [],
   "source": [
    "N_list.head()"
   ]
  },
  {
   "cell_type": "code",
   "execution_count": null,
   "metadata": {},
   "outputs": [],
   "source": [
    "N_list.drop([\"link1\", \"link2\", \"link3\"], axis=1).head()"
   ]
  },
  {
   "cell_type": "code",
   "execution_count": null,
   "metadata": {},
   "outputs": [],
   "source": [
    "N_list.to_csv('N_list.csv', index=False,)"
   ]
  },
  {
   "cell_type": "code",
   "execution_count": null,
   "metadata": {},
   "outputs": [],
   "source": []
  },
  {
   "cell_type": "markdown",
   "metadata": {},
   "source": [
    "## O Fighters Scraped"
   ]
  },
  {
   "cell_type": "code",
   "execution_count": null,
   "metadata": {},
   "outputs": [],
   "source": []
  },
  {
   "cell_type": "code",
   "execution_count": null,
   "metadata": {},
   "outputs": [],
   "source": [
    "url = 'http://ufcstats.com/statistics/fighters?char=o&page=all'\n",
    "browser.visit(url)\n",
    "response = requests.get(url)\n",
    "print(response)"
   ]
  },
  {
   "cell_type": "code",
   "execution_count": null,
   "metadata": {},
   "outputs": [],
   "source": [
    "soup = BeautifulSoup(response.text, 'html.parser')\n",
    "#print(soup.prettify())"
   ]
  },
  {
   "cell_type": "code",
   "execution_count": null,
   "metadata": {},
   "outputs": [],
   "source": [
    "fighters_soup = soup.find_all('tr')\n",
    "#print(fighters_soup).text"
   ]
  },
  {
   "cell_type": "code",
   "execution_count": null,
   "metadata": {},
   "outputs": [],
   "source": [
    "#data_b_links = soup.find_all(\"a\", attrs={\"class\": \"b-link\"})\n",
    "data_b_stats = soup.find_all(\"td\", attrs={\"class\": \"b-statistics__table-col\"})\n",
    "data_b_stats\n",
    "\n",
    "\n",
    "\n",
    "link_list = []\n",
    "for fighter_link in data_b_stats:\n",
    "    if(fighter_link.a):\n",
    "        link_list.append(fighter_link.a[\"href\"])\n",
    "        link_list.append(fighter_link.get_text().strip())\n",
    "    else:\n",
    "        link_list.append(fighter_link.get_text().strip())\n",
    "final_data = []\n",
    "for index in range(0, len(link_list), 14):\n",
    "    final_data.append(link_list[index:index+14])\n",
    "\n",
    "\n",
    "O_list =pd.DataFrame(final_data, columns=['link1', 'First Name', \"link2\", \"Last Name\", \"link3\", \"Nick Name\", \"Height\", \"Weight\", \"Reach\", \"Stance\", \"Win\", \"Loss\", \"Draw\", \"Champion Status\"])"
   ]
  },
  {
   "cell_type": "code",
   "execution_count": null,
   "metadata": {},
   "outputs": [],
   "source": [
    "O_list.head()"
   ]
  },
  {
   "cell_type": "code",
   "execution_count": null,
   "metadata": {},
   "outputs": [],
   "source": [
    "O_list.drop([\"link1\", \"link2\", \"link3\"], axis=1).head()"
   ]
  },
  {
   "cell_type": "code",
   "execution_count": null,
   "metadata": {},
   "outputs": [],
   "source": [
    "Q_list.to_csv('Q_list.csv', index=False,)"
   ]
  },
  {
   "cell_type": "code",
   "execution_count": null,
   "metadata": {},
   "outputs": [],
   "source": []
  },
  {
   "cell_type": "markdown",
   "metadata": {},
   "source": [
    "## P Fighters Scraped "
   ]
  },
  {
   "cell_type": "code",
   "execution_count": null,
   "metadata": {},
   "outputs": [],
   "source": []
  },
  {
   "cell_type": "code",
   "execution_count": null,
   "metadata": {},
   "outputs": [],
   "source": [
    "url = 'http://ufcstats.com/statistics/fighters?char=p&page=all'\n",
    "browser.visit(url)\n",
    "response = requests.get(url)\n",
    "print(response)"
   ]
  },
  {
   "cell_type": "code",
   "execution_count": null,
   "metadata": {},
   "outputs": [],
   "source": [
    "soup = BeautifulSoup(response.text, 'html.parser')\n",
    "#print(soup.prettify())"
   ]
  },
  {
   "cell_type": "code",
   "execution_count": null,
   "metadata": {},
   "outputs": [],
   "source": [
    "fighters_soup = soup.find_all('tr')\n",
    "#print(fighters_soup).text"
   ]
  },
  {
   "cell_type": "code",
   "execution_count": null,
   "metadata": {},
   "outputs": [],
   "source": [
    "#data_b_links = soup.find_all(\"a\", attrs={\"class\": \"b-link\"})\n",
    "data_b_stats = soup.find_all(\"td\", attrs={\"class\": \"b-statistics__table-col\"})\n",
    "data_b_stats\n",
    "\n",
    "\n",
    "\n",
    "link_list = []\n",
    "for fighter_link in data_b_stats:\n",
    "    if(fighter_link.a):\n",
    "        link_list.append(fighter_link.a[\"href\"])\n",
    "        link_list.append(fighter_link.get_text().strip())\n",
    "    else:\n",
    "        link_list.append(fighter_link.get_text().strip())\n",
    "final_data = []\n",
    "for index in range(0, len(link_list), 14):\n",
    "    final_data.append(link_list[index:index+14])\n",
    "\n",
    "\n",
    "P_list =pd.DataFrame(final_data, columns=['link1', 'First Name', \"link2\", \"Last Name\", \"link3\", \"Nick Name\", \"Height\", \"Weight\", \"Reach\", \"Stance\", \"Win\", \"Loss\", \"Draw\", \"Champion Status\"])"
   ]
  },
  {
   "cell_type": "code",
   "execution_count": null,
   "metadata": {},
   "outputs": [],
   "source": [
    "P_list.head()"
   ]
  },
  {
   "cell_type": "code",
   "execution_count": null,
   "metadata": {},
   "outputs": [],
   "source": [
    "P_list.drop([\"link1\", \"link2\", \"link3\"], axis=1).head()"
   ]
  },
  {
   "cell_type": "code",
   "execution_count": null,
   "metadata": {},
   "outputs": [],
   "source": [
    "P_list.to_csv('P_list.csv', index=False,)"
   ]
  },
  {
   "cell_type": "code",
   "execution_count": null,
   "metadata": {},
   "outputs": [],
   "source": []
  },
  {
   "cell_type": "markdown",
   "metadata": {},
   "source": [
    "## Q Fighters Scraped "
   ]
  },
  {
   "cell_type": "code",
   "execution_count": null,
   "metadata": {},
   "outputs": [],
   "source": []
  },
  {
   "cell_type": "code",
   "execution_count": null,
   "metadata": {},
   "outputs": [],
   "source": [
    "url = 'http://ufcstats.com/statistics/fighters?char=q&page=all'\n",
    "browser.visit(url)\n",
    "response = requests.get(url)\n",
    "print(response)"
   ]
  },
  {
   "cell_type": "code",
   "execution_count": null,
   "metadata": {},
   "outputs": [],
   "source": [
    "soup = BeautifulSoup(response.text, 'html.parser')\n",
    "#print(soup.prettify())"
   ]
  },
  {
   "cell_type": "code",
   "execution_count": null,
   "metadata": {},
   "outputs": [],
   "source": [
    "fighters_soup = soup.find_all('tr')\n",
    "#print(fighters_soup).text"
   ]
  },
  {
   "cell_type": "code",
   "execution_count": null,
   "metadata": {},
   "outputs": [],
   "source": [
    "#data_b_links = soup.find_all(\"a\", attrs={\"class\": \"b-link\"})\n",
    "data_b_stats = soup.find_all(\"td\", attrs={\"class\": \"b-statistics__table-col\"})\n",
    "data_b_stats\n",
    "\n",
    "\n",
    "\n",
    "link_list = []\n",
    "for fighter_link in data_b_stats:\n",
    "    if(fighter_link.a):\n",
    "        link_list.append(fighter_link.a[\"href\"])\n",
    "        link_list.append(fighter_link.get_text().strip())\n",
    "    else:\n",
    "        link_list.append(fighter_link.get_text().strip())\n",
    "final_data = []\n",
    "for index in range(0, len(link_list), 14):\n",
    "    final_data.append(link_list[index:index+14])\n",
    "\n",
    "\n",
    "Q_list =pd.DataFrame(final_data, columns=['link1', 'First Name', \"link2\", \"Last Name\", \"link3\", \"Nick Name\", \"Height\", \"Weight\", \"Reach\", \"Stance\", \"Win\", \"Loss\", \"Draw\", \"Champion Status\"])"
   ]
  },
  {
   "cell_type": "code",
   "execution_count": null,
   "metadata": {},
   "outputs": [],
   "source": [
    "Q_list.head()"
   ]
  },
  {
   "cell_type": "code",
   "execution_count": null,
   "metadata": {},
   "outputs": [],
   "source": [
    "Q_list.drop([\"link1\", \"link2\", \"link3\"], axis=1).head()"
   ]
  },
  {
   "cell_type": "code",
   "execution_count": null,
   "metadata": {},
   "outputs": [],
   "source": [
    "Q_list.to_csv('Q_list.csv', index=False,)"
   ]
  },
  {
   "cell_type": "code",
   "execution_count": null,
   "metadata": {},
   "outputs": [],
   "source": []
  },
  {
   "cell_type": "markdown",
   "metadata": {},
   "source": [
    "## R Fighters Scraped "
   ]
  },
  {
   "cell_type": "code",
   "execution_count": null,
   "metadata": {},
   "outputs": [],
   "source": []
  },
  {
   "cell_type": "code",
   "execution_count": null,
   "metadata": {},
   "outputs": [],
   "source": [
    "url = 'http://ufcstats.com/statistics/fighters?char=r&page=all'\n",
    "browser.visit(url)\n",
    "response = requests.get(url)\n",
    "print(response)"
   ]
  },
  {
   "cell_type": "code",
   "execution_count": null,
   "metadata": {},
   "outputs": [],
   "source": [
    "soup = BeautifulSoup(response.text, 'html.parser')\n",
    "#print(soup.prettify())"
   ]
  },
  {
   "cell_type": "code",
   "execution_count": null,
   "metadata": {},
   "outputs": [],
   "source": [
    "fighters_soup = soup.find_all('tr')\n",
    "#print(fighters_soup).text"
   ]
  },
  {
   "cell_type": "code",
   "execution_count": null,
   "metadata": {},
   "outputs": [],
   "source": [
    "#data_b_links = soup.find_all(\"a\", attrs={\"class\": \"b-link\"})\n",
    "data_b_stats = soup.find_all(\"td\", attrs={\"class\": \"b-statistics__table-col\"})\n",
    "data_b_stats\n",
    "\n",
    "\n",
    "\n",
    "link_list = []\n",
    "for fighter_link in data_b_stats:\n",
    "    if(fighter_link.a):\n",
    "        link_list.append(fighter_link.a[\"href\"])\n",
    "        link_list.append(fighter_link.get_text().strip())\n",
    "    else:\n",
    "        link_list.append(fighter_link.get_text().strip())\n",
    "final_data = []\n",
    "for index in range(0, len(link_list), 14):\n",
    "    final_data.append(link_list[index:index+14])\n",
    "\n",
    "\n",
    "R_list =pd.DataFrame(final_data, columns=['link1', 'First Name', \"link2\", \"Last Name\", \"link3\", \"Nick Name\", \"Height\", \"Weight\", \"Reach\", \"Stance\", \"Win\", \"Loss\", \"Draw\", \"Champion Status\"])"
   ]
  },
  {
   "cell_type": "code",
   "execution_count": null,
   "metadata": {},
   "outputs": [],
   "source": [
    "R_list.head()"
   ]
  },
  {
   "cell_type": "code",
   "execution_count": null,
   "metadata": {},
   "outputs": [],
   "source": [
    "R_list.drop([\"link1\", \"link2\", \"link3\"], axis=1).head()"
   ]
  },
  {
   "cell_type": "code",
   "execution_count": null,
   "metadata": {},
   "outputs": [],
   "source": [
    "R_list.to_csv('R_list.csv', index=False,)"
   ]
  },
  {
   "cell_type": "code",
   "execution_count": null,
   "metadata": {},
   "outputs": [],
   "source": []
  },
  {
   "cell_type": "markdown",
   "metadata": {},
   "source": [
    "## S Fighters Scraped "
   ]
  },
  {
   "cell_type": "code",
   "execution_count": null,
   "metadata": {},
   "outputs": [],
   "source": []
  },
  {
   "cell_type": "code",
   "execution_count": null,
   "metadata": {},
   "outputs": [],
   "source": [
    "url = 'http://ufcstats.com/statistics/fighters?char=s&page=all'\n",
    "browser.visit(url)\n",
    "response = requests.get(url)\n",
    "print(response)"
   ]
  },
  {
   "cell_type": "code",
   "execution_count": null,
   "metadata": {},
   "outputs": [],
   "source": [
    "soup = BeautifulSoup(response.text, 'html.parser')\n",
    "#print(soup.prettify())"
   ]
  },
  {
   "cell_type": "code",
   "execution_count": null,
   "metadata": {},
   "outputs": [],
   "source": [
    "fighters_soup = soup.find_all('tr')\n",
    "#print(fighters_soup).text"
   ]
  },
  {
   "cell_type": "code",
   "execution_count": null,
   "metadata": {},
   "outputs": [],
   "source": [
    "#data_b_links = soup.find_all(\"a\", attrs={\"class\": \"b-link\"})\n",
    "data_b_stats = soup.find_all(\"td\", attrs={\"class\": \"b-statistics__table-col\"})\n",
    "data_b_stats\n",
    "\n",
    "\n",
    "\n",
    "link_list = []\n",
    "for fighter_link in data_b_stats:\n",
    "    if(fighter_link.a):\n",
    "        link_list.append(fighter_link.a[\"href\"])\n",
    "        link_list.append(fighter_link.get_text().strip())\n",
    "    else:\n",
    "        link_list.append(fighter_link.get_text().strip())\n",
    "final_data = []\n",
    "for index in range(0, len(link_list), 14):\n",
    "    final_data.append(link_list[index:index+14])\n",
    "\n",
    "\n",
    "S_list =pd.DataFrame(final_data, columns=['link1', 'First Name', \"link2\", \"Last Name\", \"link3\", \"Nick Name\", \"Height\", \"Weight\", \"Reach\", \"Stance\", \"Win\", \"Loss\", \"Draw\", \"Champion Status\"])"
   ]
  },
  {
   "cell_type": "code",
   "execution_count": null,
   "metadata": {},
   "outputs": [],
   "source": [
    "S_list.head()"
   ]
  },
  {
   "cell_type": "code",
   "execution_count": null,
   "metadata": {},
   "outputs": [],
   "source": [
    "S_list.drop([\"link1\", \"link2\", \"link3\"], axis=1).head()"
   ]
  },
  {
   "cell_type": "code",
   "execution_count": null,
   "metadata": {},
   "outputs": [],
   "source": [
    "S_list.to_csv('S_list.csv', index=False,)"
   ]
  },
  {
   "cell_type": "code",
   "execution_count": null,
   "metadata": {},
   "outputs": [],
   "source": []
  },
  {
   "cell_type": "markdown",
   "metadata": {},
   "source": [
    "## T Fighters Scraped "
   ]
  },
  {
   "cell_type": "code",
   "execution_count": null,
   "metadata": {},
   "outputs": [],
   "source": []
  },
  {
   "cell_type": "code",
   "execution_count": null,
   "metadata": {},
   "outputs": [],
   "source": [
    "url = 'http://ufcstats.com/statistics/fighters?char=t&page=all'\n",
    "browser.visit(url)\n",
    "response = requests.get(url)\n",
    "print(response)"
   ]
  },
  {
   "cell_type": "code",
   "execution_count": null,
   "metadata": {},
   "outputs": [],
   "source": [
    "soup = BeautifulSoup(response.text, 'html.parser')\n",
    "#print(soup.prettify())"
   ]
  },
  {
   "cell_type": "code",
   "execution_count": null,
   "metadata": {},
   "outputs": [],
   "source": [
    "fighters_soup = soup.find_all('tr')\n",
    "#print(fighters_soup).text"
   ]
  },
  {
   "cell_type": "code",
   "execution_count": null,
   "metadata": {},
   "outputs": [],
   "source": [
    "#data_b_links = soup.find_all(\"a\", attrs={\"class\": \"b-link\"})\n",
    "data_b_stats = soup.find_all(\"td\", attrs={\"class\": \"b-statistics__table-col\"})\n",
    "data_b_stats\n",
    "\n",
    "\n",
    "\n",
    "link_list = []\n",
    "for fighter_link in data_b_stats:\n",
    "    if(fighter_link.a):\n",
    "        link_list.append(fighter_link.a[\"href\"])\n",
    "        link_list.append(fighter_link.get_text().strip())\n",
    "    else:\n",
    "        link_list.append(fighter_link.get_text().strip())\n",
    "final_data = []\n",
    "for index in range(0, len(link_list), 14):\n",
    "    final_data.append(link_list[index:index+14])\n",
    "\n",
    "\n",
    "T_list =pd.DataFrame(final_data, columns=['link1', 'First Name', \"link2\", \"Last Name\", \"link3\", \"Nick Name\", \"Height\", \"Weight\", \"Reach\", \"Stance\", \"Win\", \"Loss\", \"Draw\", \"Champion Status\"])"
   ]
  },
  {
   "cell_type": "code",
   "execution_count": null,
   "metadata": {},
   "outputs": [],
   "source": [
    "T_list.head()"
   ]
  },
  {
   "cell_type": "code",
   "execution_count": null,
   "metadata": {},
   "outputs": [],
   "source": [
    "T_list.drop([\"link1\", \"link2\", \"link3\"], axis=1).head()"
   ]
  },
  {
   "cell_type": "code",
   "execution_count": null,
   "metadata": {},
   "outputs": [],
   "source": [
    "T_list.to_csv('T_list.csv', index=False,)"
   ]
  },
  {
   "cell_type": "code",
   "execution_count": null,
   "metadata": {},
   "outputs": [],
   "source": []
  },
  {
   "cell_type": "markdown",
   "metadata": {},
   "source": [
    "## U Fighters Scraped "
   ]
  },
  {
   "cell_type": "code",
   "execution_count": null,
   "metadata": {},
   "outputs": [],
   "source": []
  },
  {
   "cell_type": "code",
   "execution_count": null,
   "metadata": {},
   "outputs": [],
   "source": []
  },
  {
   "cell_type": "code",
   "execution_count": null,
   "metadata": {},
   "outputs": [],
   "source": [
    "url = 'http://ufcstats.com/statistics/fighters?char=u&page=all'\n",
    "browser.visit(url)\n",
    "response = requests.get(url)\n",
    "print(response)"
   ]
  },
  {
   "cell_type": "code",
   "execution_count": null,
   "metadata": {},
   "outputs": [],
   "source": [
    "soup = BeautifulSoup(response.text, 'html.parser')\n",
    "#print(soup.prettify())"
   ]
  },
  {
   "cell_type": "code",
   "execution_count": null,
   "metadata": {},
   "outputs": [],
   "source": [
    "fighters_soup = soup.find_all('tr')\n",
    "#print(fighters_soup).text"
   ]
  },
  {
   "cell_type": "code",
   "execution_count": null,
   "metadata": {},
   "outputs": [],
   "source": [
    "#data_b_links = soup.find_all(\"a\", attrs={\"class\": \"b-link\"})\n",
    "data_b_stats = soup.find_all(\"td\", attrs={\"class\": \"b-statistics__table-col\"})\n",
    "data_b_stats\n",
    "\n",
    "\n",
    "\n",
    "link_list = []\n",
    "for fighter_link in data_b_stats:\n",
    "    if(fighter_link.a):\n",
    "        link_list.append(fighter_link.a[\"href\"])\n",
    "        link_list.append(fighter_link.get_text().strip())\n",
    "    else:\n",
    "        link_list.append(fighter_link.get_text().strip())\n",
    "final_data = []\n",
    "for index in range(0, len(link_list), 14):\n",
    "    final_data.append(link_list[index:index+14])\n",
    "\n",
    "\n",
    "U_list =pd.DataFrame(final_data, columns=['link1', 'First Name', \"link2\", \"Last Name\", \"link3\", \"Nick Name\", \"Height\", \"Weight\", \"Reach\", \"Stance\", \"Win\", \"Loss\", \"Draw\", \"Champion Status\"])"
   ]
  },
  {
   "cell_type": "code",
   "execution_count": null,
   "metadata": {},
   "outputs": [],
   "source": [
    "U_list.head()"
   ]
  },
  {
   "cell_type": "code",
   "execution_count": null,
   "metadata": {},
   "outputs": [],
   "source": [
    "U_list.drop([\"link1\", \"link2\", \"link3\"], axis=1).head()"
   ]
  },
  {
   "cell_type": "code",
   "execution_count": null,
   "metadata": {},
   "outputs": [],
   "source": [
    "U_list.to_csv('U_list.csv', index=False,)"
   ]
  },
  {
   "cell_type": "code",
   "execution_count": null,
   "metadata": {},
   "outputs": [],
   "source": []
  },
  {
   "cell_type": "markdown",
   "metadata": {},
   "source": [
    "## V Fighter Scraped "
   ]
  },
  {
   "cell_type": "code",
   "execution_count": null,
   "metadata": {},
   "outputs": [],
   "source": []
  },
  {
   "cell_type": "code",
   "execution_count": null,
   "metadata": {},
   "outputs": [],
   "source": [
    "url = 'http://ufcstats.com/statistics/fighters?char=v&page=all'\n",
    "browser.visit(url)\n",
    "response = requests.get(url)\n",
    "print(response)"
   ]
  },
  {
   "cell_type": "code",
   "execution_count": null,
   "metadata": {},
   "outputs": [],
   "source": [
    "soup = BeautifulSoup(response.text, 'html.parser')\n",
    "#print(soup.prettify())"
   ]
  },
  {
   "cell_type": "code",
   "execution_count": null,
   "metadata": {},
   "outputs": [],
   "source": [
    "fighters_soup = soup.find_all('tr')\n",
    "#print(fighters_soup).text"
   ]
  },
  {
   "cell_type": "code",
   "execution_count": null,
   "metadata": {},
   "outputs": [],
   "source": [
    "#data_b_links = soup.find_all(\"a\", attrs={\"class\": \"b-link\"})\n",
    "data_b_stats = soup.find_all(\"td\", attrs={\"class\": \"b-statistics__table-col\"})\n",
    "data_b_stats\n",
    "\n",
    "\n",
    "\n",
    "link_list = []\n",
    "for fighter_link in data_b_stats:\n",
    "    if(fighter_link.a):\n",
    "        link_list.append(fighter_link.a[\"href\"])\n",
    "        link_list.append(fighter_link.get_text().strip())\n",
    "    else:\n",
    "        link_list.append(fighter_link.get_text().strip())\n",
    "final_data = []\n",
    "for index in range(0, len(link_list), 14):\n",
    "    final_data.append(link_list[index:index+14])\n",
    "\n",
    "    \n",
    "V_list =pd.DataFrame(final_data, columns=['link1', 'First Name', \"link2\", \"Last Name\", \"link3\", \"Nick Name\", \"Height\", \"Weight\", \"Reach\", \"Stance\", \"Win\", \"Loss\", \"Draw\", \"Champion Status\"])"
   ]
  },
  {
   "cell_type": "code",
   "execution_count": null,
   "metadata": {},
   "outputs": [],
   "source": [
    "V_list.head()"
   ]
  },
  {
   "cell_type": "code",
   "execution_count": null,
   "metadata": {},
   "outputs": [],
   "source": [
    "V_list.drop([\"link1\", \"link2\", \"link3\"], axis=1).head()"
   ]
  },
  {
   "cell_type": "code",
   "execution_count": null,
   "metadata": {},
   "outputs": [],
   "source": [
    "V_list.to_csv('V_list.csv', index=False,)"
   ]
  },
  {
   "cell_type": "code",
   "execution_count": null,
   "metadata": {},
   "outputs": [],
   "source": []
  },
  {
   "cell_type": "markdown",
   "metadata": {},
   "source": [
    "## W Fighters Scraped"
   ]
  },
  {
   "cell_type": "code",
   "execution_count": null,
   "metadata": {},
   "outputs": [],
   "source": []
  },
  {
   "cell_type": "code",
   "execution_count": null,
   "metadata": {},
   "outputs": [],
   "source": [
    "url = 'http://ufcstats.com/statistics/fighters?char=w&page=all'\n",
    "browser.visit(url)\n",
    "response = requests.get(url)\n",
    "print(response)"
   ]
  },
  {
   "cell_type": "code",
   "execution_count": null,
   "metadata": {},
   "outputs": [],
   "source": [
    "soup = BeautifulSoup(response.text, 'html.parser')\n",
    "#print(soup.prettify())"
   ]
  },
  {
   "cell_type": "code",
   "execution_count": null,
   "metadata": {},
   "outputs": [],
   "source": [
    "fighters_soup = soup.find_all('tr')\n",
    "#print(fighters_soup).text"
   ]
  },
  {
   "cell_type": "code",
   "execution_count": null,
   "metadata": {},
   "outputs": [],
   "source": [
    "#data_b_links = soup.find_all(\"a\", attrs={\"class\": \"b-link\"})\n",
    "data_b_stats = soup.find_all(\"td\", attrs={\"class\": \"b-statistics__table-col\"})\n",
    "data_b_stats\n",
    "\n",
    "\n",
    "\n",
    "link_list = []\n",
    "for fighter_link in data_b_stats:\n",
    "    if(fighter_link.a):\n",
    "        link_list.append(fighter_link.a[\"href\"])\n",
    "        link_list.append(fighter_link.get_text().strip())\n",
    "    else:\n",
    "        link_list.append(fighter_link.get_text().strip())\n",
    "final_data = []\n",
    "for index in range(0, len(link_list), 14):\n",
    "    final_data.append(link_list[index:index+14])\n",
    "\n",
    "\n",
    "W_list =pd.DataFrame(final_data, columns=['link1', 'First Name', \"link2\", \"Last Name\", \"link3\", \"Nick Name\", \"Height\", \"Weight\", \"Reach\", \"Stance\", \"Win\", \"Loss\", \"Draw\", \"Champion Status\"])"
   ]
  },
  {
   "cell_type": "code",
   "execution_count": null,
   "metadata": {},
   "outputs": [],
   "source": [
    "W_list.head()"
   ]
  },
  {
   "cell_type": "code",
   "execution_count": null,
   "metadata": {},
   "outputs": [],
   "source": [
    "W_list.drop([\"link1\", \"link2\", \"link3\"], axis=1).head()"
   ]
  },
  {
   "cell_type": "code",
   "execution_count": null,
   "metadata": {},
   "outputs": [],
   "source": [
    "W_list.to_csv('W_list.csv', index=False,)"
   ]
  },
  {
   "cell_type": "code",
   "execution_count": null,
   "metadata": {},
   "outputs": [],
   "source": []
  },
  {
   "cell_type": "markdown",
   "metadata": {},
   "source": [
    "## X Fighters SCraped"
   ]
  },
  {
   "cell_type": "code",
   "execution_count": null,
   "metadata": {},
   "outputs": [],
   "source": []
  },
  {
   "cell_type": "code",
   "execution_count": null,
   "metadata": {},
   "outputs": [],
   "source": [
    "url = 'http://ufcstats.com/statistics/fighters?char=x&page=all'\n",
    "browser.visit(url)\n",
    "response = requests.get(url)\n",
    "print(response)"
   ]
  },
  {
   "cell_type": "code",
   "execution_count": null,
   "metadata": {},
   "outputs": [],
   "source": [
    "soup = BeautifulSoup(response.text, 'html.parser')\n",
    "#print(soup.prettify())"
   ]
  },
  {
   "cell_type": "code",
   "execution_count": null,
   "metadata": {},
   "outputs": [],
   "source": [
    "fighters_soup = soup.find_all('tr')\n",
    "#print(fighters_soup).text"
   ]
  },
  {
   "cell_type": "code",
   "execution_count": null,
   "metadata": {},
   "outputs": [],
   "source": [
    "#data_b_links = soup.find_all(\"a\", attrs={\"class\": \"b-link\"})\n",
    "data_b_stats = soup.find_all(\"td\", attrs={\"class\": \"b-statistics__table-col\"})\n",
    "data_b_stats\n",
    "\n",
    "\n",
    "\n",
    "link_list = []\n",
    "for fighter_link in data_b_stats:\n",
    "    if(fighter_link.a):\n",
    "        link_list.append(fighter_link.a[\"href\"])\n",
    "        link_list.append(fighter_link.get_text().strip())\n",
    "    else:\n",
    "        link_list.append(fighter_link.get_text().strip())\n",
    "final_data = []\n",
    "for index in range(0, len(link_list), 14):\n",
    "    final_data.append(link_list[index:index+14])\n",
    "\n",
    "\n",
    "X_list =pd.DataFrame(final_data, columns=['link1', 'First Name', \"link2\", \"Last Name\", \"link3\", \"Nick Name\", \"Height\", \"Weight\", \"Reach\", \"Stance\", \"Win\", \"Loss\", \"Draw\", \"Champion Status\"])"
   ]
  },
  {
   "cell_type": "code",
   "execution_count": null,
   "metadata": {},
   "outputs": [],
   "source": [
    "X_list.head()"
   ]
  },
  {
   "cell_type": "code",
   "execution_count": null,
   "metadata": {},
   "outputs": [],
   "source": [
    "X_list.drop([\"link1\", \"link2\", \"link3\"], axis=1).head()"
   ]
  },
  {
   "cell_type": "code",
   "execution_count": null,
   "metadata": {},
   "outputs": [],
   "source": [
    "X_list.to_csv('X_list.csv', index=False,)"
   ]
  },
  {
   "cell_type": "code",
   "execution_count": null,
   "metadata": {},
   "outputs": [],
   "source": []
  },
  {
   "cell_type": "markdown",
   "metadata": {},
   "source": [
    "## Y Fighter Scraped"
   ]
  },
  {
   "cell_type": "code",
   "execution_count": null,
   "metadata": {},
   "outputs": [],
   "source": []
  },
  {
   "cell_type": "code",
   "execution_count": null,
   "metadata": {},
   "outputs": [],
   "source": [
    "url = 'http://ufcstats.com/statistics/fighters?char=y&page=all'\n",
    "browser.visit(url)\n",
    "response = requests.get(url)\n",
    "print(response)"
   ]
  },
  {
   "cell_type": "code",
   "execution_count": null,
   "metadata": {},
   "outputs": [],
   "source": [
    "soup = BeautifulSoup(response.text, 'html.parser')\n",
    "#print(soup.prettify())"
   ]
  },
  {
   "cell_type": "code",
   "execution_count": null,
   "metadata": {},
   "outputs": [],
   "source": [
    "fighters_soup = soup.find_all('tr')\n",
    "#print(fighters_soup).text"
   ]
  },
  {
   "cell_type": "code",
   "execution_count": null,
   "metadata": {},
   "outputs": [],
   "source": [
    "#data_b_links = soup.find_all(\"a\", attrs={\"class\": \"b-link\"})\n",
    "data_b_stats = soup.find_all(\"td\", attrs={\"class\": \"b-statistics__table-col\"})\n",
    "data_b_stats\n",
    "\n",
    "\n",
    "\n",
    "link_list = []\n",
    "for fighter_link in data_b_stats:\n",
    "    if(fighter_link.a):\n",
    "        link_list.append(fighter_link.a[\"href\"])\n",
    "        link_list.append(fighter_link.get_text().strip())\n",
    "    else:\n",
    "        link_list.append(fighter_link.get_text().strip())\n",
    "final_data = []\n",
    "for index in range(0, len(link_list), 14):\n",
    "    final_data.append(link_list[index:index+14])\n",
    "\n",
    "\n",
    "Y_list =pd.DataFrame(final_data, columns=['link1', 'First Name', \"link2\", \"Last Name\", \"link3\", \"Nick Name\", \"Height\", \"Weight\", \"Reach\", \"Stance\", \"Win\", \"Loss\", \"Draw\", \"Champion Status\"])"
   ]
  },
  {
   "cell_type": "code",
   "execution_count": null,
   "metadata": {},
   "outputs": [],
   "source": [
    "Y_list.head()"
   ]
  },
  {
   "cell_type": "code",
   "execution_count": null,
   "metadata": {},
   "outputs": [],
   "source": [
    "Y_list.drop([\"link1\", \"link2\", \"link3\"], axis=1).head()"
   ]
  },
  {
   "cell_type": "code",
   "execution_count": null,
   "metadata": {},
   "outputs": [],
   "source": [
    "Y_list.to_csv('Y_list.csv', index=False,)"
   ]
  },
  {
   "cell_type": "code",
   "execution_count": null,
   "metadata": {},
   "outputs": [],
   "source": []
  },
  {
   "cell_type": "markdown",
   "metadata": {},
   "source": [
    "## Z fighter Scraped "
   ]
  },
  {
   "cell_type": "code",
   "execution_count": null,
   "metadata": {},
   "outputs": [],
   "source": []
  },
  {
   "cell_type": "code",
   "execution_count": null,
   "metadata": {},
   "outputs": [],
   "source": [
    "url = 'http://ufcstats.com/statistics/fighters?char=z&page=all'\n",
    "browser.visit(url)\n",
    "response = requests.get(url)\n",
    "print(response)"
   ]
  },
  {
   "cell_type": "code",
   "execution_count": null,
   "metadata": {},
   "outputs": [],
   "source": [
    "soup = BeautifulSoup(response.text, 'html.parser')\n",
    "#print(soup.prettify())"
   ]
  },
  {
   "cell_type": "code",
   "execution_count": null,
   "metadata": {},
   "outputs": [],
   "source": [
    "fighters_soup = soup.find_all('tr')\n",
    "#print(fighters_soup).text"
   ]
  },
  {
   "cell_type": "code",
   "execution_count": null,
   "metadata": {},
   "outputs": [],
   "source": [
    "#data_b_links = soup.find_all(\"a\", attrs={\"class\": \"b-link\"})\n",
    "data_b_stats = soup.find_all(\"td\", attrs={\"class\": \"b-statistics__table-col\"})\n",
    "data_b_stats\n",
    "\n",
    "\n",
    "\n",
    "link_list = []\n",
    "for fighter_link in data_b_stats:\n",
    "    if(fighter_link.a):\n",
    "        link_list.append(fighter_link.a[\"href\"])\n",
    "        link_list.append(fighter_link.get_text().strip())\n",
    "    else:\n",
    "        link_list.append(fighter_link.get_text().strip())\n",
    "final_data = []\n",
    "for index in range(0, len(link_list), 14):\n",
    "    final_data.append(link_list[index:index+14])\n",
    "\n",
    "\n",
    "Z_list =pd.DataFrame(final_data, columns=['link1', 'First Name', \"link2\", \"Last Name\", \"link3\", \"Nick Name\", \"Height\", \"Weight\", \"Reach\", \"Stance\", \"Win\", \"Loss\", \"Draw\", \"Champion Status\"])"
   ]
  },
  {
   "cell_type": "code",
   "execution_count": null,
   "metadata": {},
   "outputs": [],
   "source": [
    "Z_list.head()"
   ]
  },
  {
   "cell_type": "code",
   "execution_count": null,
   "metadata": {},
   "outputs": [],
   "source": [
    "Z_list.drop([\"link1\", \"link2\", \"link3\"], axis=1).head()"
   ]
  },
  {
   "cell_type": "code",
   "execution_count": null,
   "metadata": {},
   "outputs": [],
   "source": [
    "Z_list.to_csv('Z_list.csv', index=False,)"
   ]
  },
  {
   "cell_type": "code",
   "execution_count": null,
   "metadata": {},
   "outputs": [],
   "source": []
  },
  {
   "cell_type": "code",
   "execution_count": null,
   "metadata": {},
   "outputs": [],
   "source": [
    "# asking Splinter to go to site and hit button with a class name full_image\n",
    "# <button class=\"full_image\"> Full Image</button>\n",
    "\n",
    "load_more_button = browser.find_by_class('data-link')\n",
    "load_more_button.click()"
   ]
  },
  {
   "cell_type": "code",
   "execution_count": null,
   "metadata": {},
   "outputs": [],
   "source": [
    "# Find the more info button and click on that \n",
    "browser.is_element_present_by_text('more info', wait_time= 1)\n",
    "more_info_element = browser.find_link_by_partial_text('more info')\n",
    "more_info_element.click()"
   ]
  },
  {
   "cell_type": "code",
   "execution_count": null,
   "metadata": {},
   "outputs": [],
   "source": [
    "#parse the results html with soup\n",
    "html = browser.html\n",
    "image_soup = BeautifulSoup(html,'html.parser')"
   ]
  },
  {
   "cell_type": "code",
   "execution_count": null,
   "metadata": {},
   "outputs": [],
   "source": [
    "img_url = image_soup.select_one('figure.lede a img').get('src')\n",
    "img_url"
   ]
  },
  {
   "cell_type": "code",
   "execution_count": null,
   "metadata": {},
   "outputs": [],
   "source": [
    "#use the base url to create an absolute url \n",
    "img_url = f'https://www.jps.nasa.gov{img_url}'\n",
    "img_url"
   ]
  },
  {
   "cell_type": "code",
   "execution_count": null,
   "metadata": {},
   "outputs": [],
   "source": []
  },
  {
   "cell_type": "code",
   "execution_count": null,
   "metadata": {},
   "outputs": [],
   "source": []
  },
  {
   "cell_type": "code",
   "execution_count": null,
   "metadata": {},
   "outputs": [],
   "source": []
  },
  {
   "cell_type": "code",
   "execution_count": null,
   "metadata": {},
   "outputs": [],
   "source": []
  },
  {
   "cell_type": "code",
   "execution_count": null,
   "metadata": {},
   "outputs": [],
   "source": []
  },
  {
   "cell_type": "code",
   "execution_count": null,
   "metadata": {},
   "outputs": [],
   "source": []
  },
  {
   "cell_type": "code",
   "execution_count": null,
   "metadata": {},
   "outputs": [],
   "source": [
    "# import pandas as pd \n",
    "# import numpy as np\n",
    "# df = pd.read_html('http://ufcstats.com/statistics/fighters')[0]\n",
    "# print(df)\n",
    "# df.columns=['description', 'value']\n",
    "# df.set_index('description', inplace=True)\n",
    "# df"
   ]
  },
  {
   "cell_type": "code",
   "execution_count": null,
   "metadata": {},
   "outputs": [],
   "source": [
    "# # First get a list of all the fighters\n",
    "# import pandas as pd\n",
    "# links =browser.find_by_css('tr')\n",
    "# for item in range(len(links)):\n",
    "#     fighter = {}\n",
    "    \n",
    "#     # we have to find the element on each loop to avoid stale element exceptcion \n",
    "#     browser.find_by_css('b-content')[item].click()\n",
    "    \n",
    "#     # next we find the sample image anchor tag and extract the hred\n",
    "#     sample_element = browser.find_link_by_text('td').first\n",
    "#     fighter['img_url'] = sample_element['href']\n",
    "    \n",
    "#     # get the hemisphere title\n",
    "#     fighter['title'] = browser.find_by_css('td').text\n",
    "    \n",
    "#     # append hemisphere object to a list\n",
    "#     fighter.append(fighter)\n",
    "    \n",
    "#     # finally, we navigate backwards\n",
    "#     browser.back()"
   ]
  },
  {
   "cell_type": "code",
   "execution_count": null,
   "metadata": {},
   "outputs": [],
   "source": []
  },
  {
   "cell_type": "code",
   "execution_count": null,
   "metadata": {},
   "outputs": [],
   "source": []
  },
  {
   "cell_type": "code",
   "execution_count": null,
   "metadata": {},
   "outputs": [],
   "source": []
  },
  {
   "cell_type": "code",
   "execution_count": null,
   "metadata": {},
   "outputs": [],
   "source": []
  },
  {
   "cell_type": "code",
   "execution_count": null,
   "metadata": {},
   "outputs": [],
   "source": []
  },
  {
   "cell_type": "code",
   "execution_count": null,
   "metadata": {},
   "outputs": [],
   "source": []
  },
  {
   "cell_type": "code",
   "execution_count": null,
   "metadata": {},
   "outputs": [],
   "source": []
  }
 ],
 "metadata": {
  "kernelspec": {
   "display_name": "Python 3",
   "language": "python",
   "name": "python3"
  },
  "language_info": {
   "codemirror_mode": {
    "name": "ipython",
    "version": 3
   },
   "file_extension": ".py",
   "mimetype": "text/x-python",
   "name": "python",
   "nbconvert_exporter": "python",
   "pygments_lexer": "ipython3",
   "version": "3.7.1"
  }
 },
 "nbformat": 4,
 "nbformat_minor": 2
}
