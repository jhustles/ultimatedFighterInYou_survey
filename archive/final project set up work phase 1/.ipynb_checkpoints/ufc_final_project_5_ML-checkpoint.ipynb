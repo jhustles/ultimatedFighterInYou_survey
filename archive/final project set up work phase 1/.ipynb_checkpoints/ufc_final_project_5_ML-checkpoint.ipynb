{
 "cells": [
  {
   "cell_type": "markdown",
   "metadata": {},
   "source": [
    "# Final Project - UFC"
   ]
  },
  {
   "cell_type": "markdown",
   "metadata": {},
   "source": []
  },
  {
   "cell_type": "code",
   "execution_count": 1,
   "metadata": {},
   "outputs": [],
   "source": [
    "# Import Dependencies\n",
    "%matplotlib inline\n",
    "import os \n",
    "import csv\n",
    "import pandas as pd\n",
    "import numpy as np\n",
    "import matplotlib.pyplot as plt\n",
    "import pickle\n",
    "import requests\n",
    "import json"
   ]
  },
  {
   "cell_type": "markdown",
   "metadata": {},
   "source": []
  },
  {
   "cell_type": "code",
   "execution_count": null,
   "metadata": {},
   "outputs": [],
   "source": []
  },
  {
   "cell_type": "code",
   "execution_count": null,
   "metadata": {},
   "outputs": [],
   "source": [
    "# Fight Stats Uniform Raw Data - \n",
    "\n",
    "# FIGHT STATS BY FIGHTER\n",
    "fight_stats_raw = pd.read_csv('fight_stats_rds_winby.csv', encoding='utf-8')\n"
   ]
  },
  {
   "cell_type": "code",
   "execution_count": null,
   "metadata": {
    "scrolled": true
   },
   "outputs": [],
   "source": [
    "# View the data\n",
    "# fight_stats_raw.head()"
   ]
  },
  {
   "cell_type": "code",
   "execution_count": null,
   "metadata": {},
   "outputs": [],
   "source": [
    "# Familiarize myself with the data\n",
    "#fight_stat_raw.info()\n",
    "#fight_stats_raw.count()"
   ]
  },
  {
   "cell_type": "code",
   "execution_count": null,
   "metadata": {},
   "outputs": [],
   "source": [
    "# View all column names for analysis\n",
    "column_names_raw = fight_stats_raw.columns.values\n",
    "\n",
    "for i in enumerate(column_names_raw):\n",
    "    print(i)\n",
    "\n",
    "print(len(fight_stats_raw.columns.values))"
   ]
  },
  {
   "cell_type": "code",
   "execution_count": null,
   "metadata": {},
   "outputs": [],
   "source": [
    "# Set up variables for dataframe\n",
    "\n",
    "name = fight_stats_raw['Name']\n",
    "\n",
    "# Entire Fight Stats\n",
    "\n",
    "last_round = fight_stats_raw['Last_round']\n",
    "estimated_minutes = fight_stats_raw['estimated_minutes']\n",
    "max_round = fight_stats_raw['Max_round']\n",
    "submission_wins = fight_stats_raw['submission_wins']\n",
    "ko_tko_wins = fight_stats_raw['ko_tko_wins']\n",
    "\n",
    "\n",
    "# Round 1\n",
    "\n",
    "# Total Strikes - Attempts and Landed\n",
    "r1_total_strikes_att = fight_stats_raw['Round1_Strikes_Total Strikes_Attempts']\n",
    "r1_total_strikes_landed = fight_stats_raw['Round1_Strikes_Total Strikes_Landed']\n",
    "\n",
    "# Total Significant Strikes\n",
    "r1_ss_att = fight_stats_raw['Round1_Strikes_Significant Strikes_Attempts']\n",
    "r1_ss_landed = fight_stats_raw['Round1_Strikes_Significant Strikes_Landed']\n",
    "\n",
    "# Total Opponent Significant Strikes\n",
    "r1_opp_ss_att = fight_stats_raw['OPP_Round1_Strikes_Significant Strikes_Attempts']\n",
    "r1_opp_ss_landed = fight_stats_raw['OPP_Round1_Strikes_Significant Strikes_Landed']\n",
    "\n",
    "# Total Ground Strikes - Attempts and Landed\n",
    "r1_ground_strikes_att = fight_stats_raw['Round1_Strikes_Ground Total Strikes_Attempts']\n",
    "r1_ground_strikes_landed = fight_stats_raw['Round1_Strikes_Ground Total Strikes_Landed']\n",
    "\n",
    "# Grappling Takedowns Attempts and Landed\n",
    "r1_grappling_subm_att = fight_stats_raw['Round1_Grappling_Submissions_Attempts']\n",
    "r1_grappling_TD_att = fight_stats_raw['Round1_Grappling_Takedowns_Attempts']\n",
    "r1_grappling_TD_landed = fight_stats_raw['Round1_Grappling_Takedowns_Landed']\n",
    "\n",
    "# Opponent Grappling Takedowns Attempts and Landed\n",
    "r1_opp_TD_att = fight_stats_raw['OPP_Round1_Grappling_Takedowns_Attempts']\n",
    "r1_opp_TD_landed = fight_stats_raw['OPP_Round1_Grappling_Takedowns_Landed']\n",
    "\n",
    "# Grappling / Ground Time\n",
    "\n",
    "r1_back_control_time = fight_stats_raw['Round1_TIP_Back Control Time']\n",
    "r1_clinch_time = fight_stats_raw['Round1_TIP_Clinch Time']\n",
    "r1_ground_control_time = fight_stats_raw['Round1_TIP_Ground Control Time']\n",
    "r1_guard_control_time = fight_stats_raw['Round1_TIP_Guard Control Time']\n",
    "r1_half_guard_time = fight_stats_raw['Round1_TIP_Half Guard Control Time']\n",
    "r1_misc_ground_control_time = fight_stats_raw['Round1_TIP_Misc. Ground Control Time']\n",
    "r1_mount_control_time = fight_stats_raw['Round1_TIP_Mount Control Time']\n",
    "r1_side_control_time = fight_stats_raw['Round1_TIP_Side Control Time']\n",
    "\n",
    "\n",
    "#########################\n",
    "# Round 2 \n",
    "\n",
    "# Total Strikes - Attempts and Landed\n",
    "r2_total_strikes_att = fight_stats_raw['Round2_Strikes_Total Strikes_Attempts']\n",
    "r2_total_strikes_landed = fight_stats_raw['Round2_Strikes_Total Strikes_Landed']\n",
    "\n",
    "# Total Significant Strikes\n",
    "r2_ss_att = fight_stats_raw['Round2_Strikes_Significant Strikes_Attempts']\n",
    "r2_ss_landed = fight_stats_raw['Round2_Strikes_Significant Strikes_Landed']\n",
    "\n",
    "# Total Opponent Significant Strikes\n",
    "r2_opp_ss_att = fight_stats_raw['OPP_Round2_Strikes_Significant Strikes_Attempts']\n",
    "r2_opp_ss_landed = fight_stats_raw['OPP_Round2_Strikes_Significant Strikes_Landed']\n",
    "\n",
    "# Total Ground Strikes - Attempts and Landed\n",
    "r2_ground_strikes_att = fight_stats_raw['Round2_Strikes_Ground Total Strikes_Attempts']\n",
    "r2_ground_strikes_landed = fight_stats_raw['Round2_Strikes_Ground Total Strikes_Landed']\n",
    "\n",
    "# Grappling Takedowns Attempts and Landed\n",
    "r2_grappling_subm_att = fight_stats_raw['Round2_Grappling_Submissions_Attempts']\n",
    "r2_grappling_TD_att = fight_stats_raw['Round2_Grappling_Takedowns_Attempts']\n",
    "r2_grappling_TD_landed = fight_stats_raw['Round2_Grappling_Takedowns_Landed']\n",
    "\n",
    "# Opponent Grappling Takedowns Attempts and Landed\n",
    "r2_opp_TD_att = fight_stats_raw['OPP_Round2_Grappling_Takedowns_Attempts']\n",
    "r2_opp_TD_landed = fight_stats_raw['OPP_Round2_Grappling_Takedowns_Landed']\n",
    "\n",
    "# Grappling / Ground Time\n",
    "\n",
    "r2_back_control_time = fight_stats_raw['Round2_TIP_Back Control Time']\n",
    "r2_clinch_time = fight_stats_raw['Round2_TIP_Clinch Time']\n",
    "r2_ground_control_time = fight_stats_raw['Round2_TIP_Ground Control Time']\n",
    "r2_guard_control_time = fight_stats_raw['Round2_TIP_Guard Control Time']\n",
    "r2_half_guard_time = fight_stats_raw['Round2_TIP_Half Guard Control Time']\n",
    "r2_misc_ground_control_time = fight_stats_raw['Round2_TIP_Misc. Ground Control Time']\n",
    "r2_mount_control_time = fight_stats_raw['Round2_TIP_Mount Control Time']\n",
    "r2_side_control_time = fight_stats_raw['Round2_TIP_Side Control Time']\n",
    "\n",
    "\n",
    "\n",
    "#########################\n",
    "# Round 3 \n",
    "\n",
    "# Total Strikes - Attempts and Landed\n",
    "r3_total_strikes_att = fight_stats_raw['Round3_Strikes_Total Strikes_Attempts']\n",
    "r3_total_strikes_landed = fight_stats_raw['Round3_Strikes_Total Strikes_Landed']\n",
    "\n",
    "# Total Significant Strikes\n",
    "r3_ss_att = fight_stats_raw['Round3_Strikes_Significant Strikes_Attempts']\n",
    "r3_ss_landed = fight_stats_raw['Round3_Strikes_Significant Strikes_Landed']\n",
    "\n",
    "# Total Opponent Significant Strikes\n",
    "r3_opp_ss_att = fight_stats_raw['OPP_Round3_Strikes_Significant Strikes_Attempts']\n",
    "r3_opp_ss_landed = fight_stats_raw['OPP_Round3_Strikes_Significant Strikes_Landed']\n",
    "\n",
    "# Total Ground Strikes - Attempts and Landed\n",
    "r3_ground_strikes_att = fight_stats_raw['Round3_Strikes_Ground Total Strikes_Attempts']\n",
    "r3_ground_strikes_landed = fight_stats_raw['Round3_Strikes_Ground Total Strikes_Landed']\n",
    "\n",
    "# Grappling Takedowns Attempts and Landed\n",
    "r3_grappling_subm_att = fight_stats_raw['Round3_Grappling_Submissions_Attempts']\n",
    "r3_grappling_TD_att = fight_stats_raw['Round3_Grappling_Takedowns_Attempts']\n",
    "r3_grappling_TD_landed = fight_stats_raw['Round3_Grappling_Takedowns_Landed']\n",
    "\n",
    "# Opponent Grappling Takedowns Attempts and Landed\n",
    "r3_opp_TD_att = fight_stats_raw['OPP_Round3_Grappling_Takedowns_Attempts']\n",
    "r3_opp_TD_landed = fight_stats_raw['OPP_Round3_Grappling_Takedowns_Landed']\n",
    "\n",
    "# Grappling / Ground Time\n",
    "\n",
    "r3_back_control_time = fight_stats_raw['Round3_TIP_Back Control Time']\n",
    "r3_clinch_time = fight_stats_raw['Round3_TIP_Clinch Time']\n",
    "r3_ground_control_time = fight_stats_raw['Round3_TIP_Ground Control Time']\n",
    "r3_guard_control_time = fight_stats_raw['Round3_TIP_Guard Control Time']\n",
    "r3_half_guard_time = fight_stats_raw['Round3_TIP_Half Guard Control Time']\n",
    "r3_misc_ground_control_time = fight_stats_raw['Round3_TIP_Misc. Ground Control Time']\n",
    "r3_mount_control_time = fight_stats_raw['Round3_TIP_Mount Control Time']\n",
    "r3_side_control_time = fight_stats_raw['Round3_TIP_Side Control Time']\n",
    "\n",
    "#########################\n",
    "# Round 4\n",
    "\n",
    "# Total Strikes - Attempts and Landed\n",
    "r4_total_strikes_att = fight_stats_raw['Round4_Strikes_Total Strikes_Attempts']\n",
    "r4_total_strikes_landed = fight_stats_raw['Round4_Strikes_Total Strikes_Landed']\n",
    "\n",
    "# Total Significant Strikes\n",
    "r4_ss_att = fight_stats_raw['Round4_Strikes_Significant Strikes_Attempts']\n",
    "r4_ss_landed = fight_stats_raw['Round4_Strikes_Significant Strikes_Landed']\n",
    "\n",
    "# Total Opponent Significant Strikes\n",
    "r4_opp_ss_att = fight_stats_raw['OPP_Round4_Strikes_Significant Strikes_Attempts']\n",
    "r4_opp_ss_landed = fight_stats_raw['OPP_Round4_Strikes_Significant Strikes_Landed']\n",
    "\n",
    "# Total Ground Strikes - Attempts and Landed\n",
    "r4_ground_strikes_att = fight_stats_raw['Round4_Strikes_Ground Total Strikes_Attempts']\n",
    "r4_ground_strikes_landed = fight_stats_raw['Round4_Strikes_Ground Total Strikes_Landed']\n",
    "\n",
    "# Grappling Takedowns Attempts and Landed\n",
    "r4_grappling_subm_att = fight_stats_raw['Round4_Grappling_Submissions_Attempts']\n",
    "r4_grappling_TD_att = fight_stats_raw['Round4_Grappling_Takedowns_Attempts']\n",
    "r4_grappling_TD_landed = fight_stats_raw['Round4_Grappling_Takedowns_Landed']\n",
    "\n",
    "# Opponent Grappling Takedowns Attempts and Landed\n",
    "r4_opp_TD_att = fight_stats_raw['OPP_Round4_Grappling_Takedowns_Attempts']\n",
    "r4_opp_TD_landed = fight_stats_raw['OPP_Round4_Grappling_Takedowns_Landed']\n",
    "\n",
    "# Grappling / Ground Time\n",
    "\n",
    "r4_back_control_time = fight_stats_raw['Round4_TIP_Back Control Time']\n",
    "r4_clinch_time = fight_stats_raw['Round4_TIP_Clinch Time']\n",
    "r4_ground_control_time = fight_stats_raw['Round4_TIP_Ground Control Time']\n",
    "r4_guard_control_time = fight_stats_raw['Round4_TIP_Guard Control Time']\n",
    "r4_half_guard_time = fight_stats_raw['Round4_TIP_Half Guard Control Time']\n",
    "r4_misc_ground_control_time = fight_stats_raw['Round4_TIP_Misc. Ground Control Time']\n",
    "r4_mount_control_time = fight_stats_raw['Round4_TIP_Mount Control Time']\n",
    "r4_side_control_time = fight_stats_raw['Round4_TIP_Side Control Time']\n",
    "\n",
    "#########################\n",
    "# Round 5\n",
    "\n",
    "# Total Strikes - Attempts and Landed\n",
    "r5_total_strikes_att = fight_stats_raw['Round5_Strikes_Total Strikes_Attempts']\n",
    "r5_total_strikes_landed = fight_stats_raw['Round5_Strikes_Total Strikes_Landed']\n",
    "\n",
    "# Total Significant Strikes\n",
    "r5_ss_att = fight_stats_raw['Round5_Strikes_Significant Strikes_Attempts']\n",
    "r5_ss_landed = fight_stats_raw['Round5_Strikes_Significant Strikes_Landed']\n",
    "\n",
    "# Total Opponent Significant Strikes\n",
    "r5_opp_ss_att = fight_stats_raw['OPP_Round5_Strikes_Significant Strikes_Attempts']\n",
    "r5_opp_ss_landed = fight_stats_raw['OPP_Round5_Strikes_Significant Strikes_Landed']\n",
    "\n",
    "# Total Ground Strikes - Attempts and Landed\n",
    "r5_ground_strikes_att = fight_stats_raw['Round5_Strikes_Ground Total Strikes_Attempts']\n",
    "r5_ground_strikes_landed = fight_stats_raw['Round5_Strikes_Ground Total Strikes_Landed']\n",
    "\n",
    "# Grappling Takedowns Attempts and Landed\n",
    "r5_grappling_subm_att = fight_stats_raw['Round5_Grappling_Submissions_Attempts']\n",
    "r5_grappling_TD_att = fight_stats_raw['Round5_Grappling_Takedowns_Attempts']\n",
    "r5_grappling_TD_landed = fight_stats_raw['Round5_Grappling_Takedowns_Landed']\n",
    "\n",
    "# Opponent Grappling Takedowns Attempts and Landed\n",
    "r5_opp_TD_att = fight_stats_raw['OPP_Round5_Grappling_Takedowns_Attempts']\n",
    "r5_opp_TD_landed = fight_stats_raw['OPP_Round5_Grappling_Takedowns_Landed']\n",
    "\n",
    "# Grappling / Ground Time\n",
    "\n",
    "r5_back_control_time = fight_stats_raw['Round5_TIP_Back Control Time']\n",
    "r5_clinch_time = fight_stats_raw['Round5_TIP_Clinch Time']\n",
    "r5_ground_control_time = fight_stats_raw['Round5_TIP_Ground Control Time']\n",
    "r5_guard_control_time = fight_stats_raw['Round5_TIP_Guard Control Time']\n",
    "r5_half_guard_time = fight_stats_raw['Round5_TIP_Half Guard Control Time']\n",
    "r5_misc_ground_control_time = fight_stats_raw['Round5_TIP_Misc. Ground Control Time']\n",
    "r5_mount_control_time = fight_stats_raw['Round5_TIP_Mount Control Time']\n",
    "r5_side_control_time = fight_stats_raw['Round5_TIP_Side Control Time']\n"
   ]
  },
  {
   "cell_type": "code",
   "execution_count": null,
   "metadata": {
    "scrolled": true
   },
   "outputs": [],
   "source": [
    "# Set up Keys and Values, and Create the Pandas DataFrame\n",
    "# Then set figher name as indices and group by the fighter's name and sum\n",
    "\n",
    "fss_dict = {\n",
    "    'Name': name,\n",
    "    'estimated_minutes': estimated_minutes,\n",
    "    'submission_wins': submission_wins,\n",
    "    'ko_tko_wins': ko_tko_wins,\n",
    "    'Round1_Strikes_Total Strikes_Attempts': r1_total_strikes_att,\n",
    "    'Round1_Strikes_Total Strikes_Landed': r1_total_strikes_landed,\n",
    "    'Round1_Strikes_Significant Strikes_Attempts': r1_ss_att,\n",
    "    'Round1_Strikes_Significant Strikes_Landed': r1_ss_landed,\n",
    "    'OPP_Round1_Strikes_Significant Strikes_Attempts': r1_opp_ss_att,\n",
    "    'OPP_Round1_Strikes_Significant Strikes_Landed': r1_opp_ss_landed,\n",
    "    'Round1_Strikes_Ground Total Strikes_Attempts': r1_ground_strikes_att,\n",
    "    'Round1_Strikes_Ground Total Strikes_Landed': r1_ground_strikes_landed, \n",
    "    'Round1_Grappling_Submissions_Attempts': r1_grappling_subm_att,\n",
    "    'Round1_Grappling_Takedowns_Attempts': r1_grappling_TD_att,\n",
    "    'Round1_Grappling_Takedowns_Landed': r1_grappling_TD_landed,\n",
    "    'OPP_Round1_Grappling_Takedowns_Attempts': r1_opp_TD_att,\n",
    "    'OPP_Round1_Grappling_Takedowns_Landed': r1_opp_TD_landed,\n",
    "    'Round1_TIP_Back Control Time': r1_back_control_time,\n",
    "    'Round1_TIP_Clinch Time': r1_clinch_time,\n",
    "    'Round1_TIP_Ground Control Time': r1_ground_control_time,\n",
    "    'Round1_TIP_Guard Control Time': r1_guard_control_time,\n",
    "    'Round1_TIP_Half Guard Control Time': r1_half_guard_time,\n",
    "    'Round1_TIP_Misc. Ground Control Time': r1_misc_ground_control_time,\n",
    "    'Round1_TIP_Mount Control Time': r1_mount_control_time,\n",
    "    'Round1_TIP_Side Control Time': r1_side_control_time,\n",
    "    \n",
    "    'Round2_Strikes_Total Strikes_Attempts': r2_total_strikes_att,\n",
    "    'Round2_Strikes_Total Strikes_Landed': r2_total_strikes_landed,\n",
    "    'Round2_Strikes_Significant Strikes_Attempts': r2_ss_att,\n",
    "    'Round2_Strikes_Significant Strikes_Landed': r2_ss_landed,\n",
    "    'OPP_Round2_Strikes_Significant Strikes_Attempts': r2_opp_ss_att,\n",
    "    'OPP_Round2_Strikes_Significant Strikes_Landed': r2_opp_ss_landed,\n",
    "    'Round2_Strikes_Ground Total Strikes_Attempts': r2_ground_strikes_att,\n",
    "    'Round2_Strikes_Ground Total Strikes_Landed': r2_ground_strikes_landed, \n",
    "    'Round2_Grappling_Submissions_Attempts': r2_grappling_subm_att,\n",
    "    'Round2_Grappling_Takedowns_Attempts': r2_grappling_TD_att,\n",
    "    'Round2_Grappling_Takedowns_Landed': r2_grappling_TD_landed,\n",
    "    'OPP_Round2_Grappling_Takedowns_Attempts': r2_opp_TD_att,\n",
    "    'OPP_Round2_Grappling_Takedowns_Landed': r2_opp_TD_landed,\n",
    "    'Round2_TIP_Back Control Time': r2_back_control_time,\n",
    "    'Round2_TIP_Clinch Time': r2_clinch_time,\n",
    "    'Round2_TIP_Ground Control Time': r2_ground_control_time,\n",
    "    'Round2_TIP_Guard Control Time': r2_guard_control_time,\n",
    "    'Round2_TIP_Half Guard Control Time': r2_half_guard_time,\n",
    "    'Round2_TIP_Misc. Ground Control Time': r2_misc_ground_control_time,\n",
    "    'Round2_TIP_Mount Control Time': r2_mount_control_time,\n",
    "    'Round2_TIP_Side Control Time': r2_side_control_time,\n",
    "    \n",
    "    'Round3_Strikes_Total Strikes_Attempts': r3_total_strikes_att,\n",
    "    'Round3_Strikes_Total Strikes_Landed': r3_total_strikes_landed,\n",
    "    'Round3_Strikes_Significant Strikes_Attempts': r3_ss_att,\n",
    "    'Round3_Strikes_Significant Strikes_Landed': r3_ss_landed,\n",
    "    'OPP_Round3_Strikes_Significant Strikes_Attempts': r3_opp_ss_att,\n",
    "    'OPP_Round3_Strikes_Significant Strikes_Landed': r3_opp_ss_landed,\n",
    "    'Round3_Strikes_Ground Total Strikes_Attempts': r3_ground_strikes_att,\n",
    "    'Round3_Strikes_Ground Total Strikes_Landed': r3_ground_strikes_landed, \n",
    "    'Round3_Grappling_Submissions_Attempts': r3_grappling_subm_att,\n",
    "    'Round3_Grappling_Takedowns_Attempts': r3_grappling_TD_att,\n",
    "    'Round3_Grappling_Takedowns_Landed': r3_grappling_TD_landed,\n",
    "    'OPP_Round3_Grappling_Takedowns_Attempts': r3_opp_TD_att,\n",
    "    'OPP_Round3_Grappling_Takedowns_Landed': r3_opp_TD_landed,\n",
    "    'Round3_TIP_Back Control Time': r3_back_control_time,\n",
    "    'Round3_TIP_Clinch Time': r3_clinch_time,\n",
    "    'Round3_TIP_Ground Control Time': r3_ground_control_time,\n",
    "    'Round3_TIP_Guard Control Time': r3_guard_control_time,\n",
    "    'Round3_TIP_Half Guard Control Time': r3_half_guard_time,\n",
    "    'Round3_TIP_Misc. Ground Control Time': r3_misc_ground_control_time,\n",
    "    'Round3_TIP_Mount Control Time': r3_mount_control_time,\n",
    "    'Round3_TIP_Side Control Time': r3_side_control_time,\n",
    "    \n",
    "    'Round4_Strikes_Total Strikes_Attempts': r4_total_strikes_att,\n",
    "    'Round4_Strikes_Total Strikes_Landed': r4_total_strikes_landed,\n",
    "    'Round4_Strikes_Significant Strikes_Attempts': r4_ss_att,\n",
    "    'Round4_Strikes_Significant Strikes_Landed': r4_ss_landed,\n",
    "    'OPP_Round4_Strikes_Significant Strikes_Attempts': r4_opp_ss_att,\n",
    "    'OPP_Round4_Strikes_Significant Strikes_Landed': r4_opp_ss_landed,\n",
    "    'Round4_Strikes_Ground Total Strikes_Attempts': r4_ground_strikes_att,\n",
    "    'Round4_Strikes_Ground Total Strikes_Landed': r4_ground_strikes_landed, \n",
    "    'Round4_Grappling_Submissions_Attempts': r4_grappling_subm_att,\n",
    "    'Round4_Grappling_Takedowns_Attempts': r4_grappling_TD_att,\n",
    "    'Round4_Grappling_Takedowns_Landed': r4_grappling_TD_landed,\n",
    "    'OPP_Round4_Grappling_Takedowns_Attempts': r4_opp_TD_att,\n",
    "    'OPP_Round4_Grappling_Takedowns_Landed': r4_opp_TD_landed,\n",
    "    'Round4_TIP_Back Control Time': r4_back_control_time,\n",
    "    'Round4_TIP_Clinch Time': r4_clinch_time,\n",
    "    'Round4_TIP_Ground Control Time': r4_ground_control_time,\n",
    "    'Round4_TIP_Guard Control Time': r4_guard_control_time,\n",
    "    'Round4_TIP_Half Guard Control Time': r4_half_guard_time,\n",
    "    'Round4_TIP_Misc. Ground Control Time': r4_misc_ground_control_time,\n",
    "    'Round4_TIP_Mount Control Time': r4_mount_control_time,\n",
    "    'Round4_TIP_Side Control Time': r4_side_control_time,\n",
    "    \n",
    "    'Round5_Strikes_Total Strikes_Attempts': r5_total_strikes_att,\n",
    "    'Round5_Strikes_Total Strikes_Landed': r5_total_strikes_landed,\n",
    "    'Round5_Strikes_Significant Strikes_Attempts': r5_ss_att,\n",
    "    'Round5_Strikes_Significant Strikes_Landed': r5_ss_landed,\n",
    "    'OPP_Round5_Strikes_Significant Strikes_Attempts': r5_opp_ss_att,\n",
    "    'OPP_Round5_Strikes_Significant Strikes_Landed': r5_opp_ss_landed,\n",
    "    'Round5_Strikes_Ground Total Strikes_Attempts': r5_ground_strikes_att,\n",
    "    'Round5_Strikes_Ground Total Strikes_Landed': r5_ground_strikes_landed, \n",
    "    'Round5_Grappling_Submissions_Attempts': r5_grappling_subm_att,\n",
    "    'Round5_Grappling_Takedowns_Attempts': r5_grappling_TD_att,\n",
    "    'Round5_Grappling_Takedowns_Landed': r5_grappling_TD_landed,\n",
    "    'OPP_Round5_Grappling_Takedowns_Attempts': r5_opp_TD_att,\n",
    "    'OPP_Round5_Grappling_Takedowns_Landed': r5_opp_TD_landed,\n",
    "    'Round5_TIP_Back Control Time': r5_back_control_time,\n",
    "    'Round5_TIP_Clinch Time': r5_clinch_time,\n",
    "    'Round5_TIP_Ground Control Time': r5_ground_control_time,\n",
    "    'Round5_TIP_Guard Control Time': r5_guard_control_time,\n",
    "    'Round5_TIP_Half Guard Control Time': r5_half_guard_time,\n",
    "    'Round5_TIP_Misc. Ground Control Time': r5_misc_ground_control_time,\n",
    "    'Round5_TIP_Mount Control Time': r5_mount_control_time,\n",
    "    'Round5_TIP_Side Control Time': r5_side_control_time\n",
    "     }\n",
    "\n",
    "fss_df = pd.DataFrame(fss_dict)\n",
    "fss_df = fss_df.groupby(['Name']).sum()\n",
    "#fss_df"
   ]
  },
  {
   "cell_type": "code",
   "execution_count": null,
   "metadata": {
    "scrolled": false
   },
   "outputs": [],
   "source": [
    "# list out all column names for analysis\n",
    "# column_names_fss = fss_df.columns.values\n",
    "\n",
    "# for i in enumerate(column_names_fss):\n",
    "#     print(i)\n"
   ]
  },
  {
   "cell_type": "code",
   "execution_count": null,
   "metadata": {},
   "outputs": [],
   "source": [
    "# Create a function to sum across columns in a dataframe (Rounds 1 thru Rounds 5)\n",
    "# and add a new \"summary\" column which will later be used for calculations\n",
    "\n",
    "def sum_frame_by_column(frame, new_col_name, list_of_cols_to_sum):\n",
    "    frame[new_col_name] = frame[list_of_cols_to_sum].astype(float).sum(axis=1)\n",
    "    return(frame)"
   ]
  },
  {
   "cell_type": "code",
   "execution_count": null,
   "metadata": {},
   "outputs": [],
   "source": [
    "sum_frame_by_column(fss_df, 'Total (R1-R5) Strikes Attempts',\n",
    "                    ['Round1_Strikes_Total Strikes_Attempts',\n",
    "                     'Round2_Strikes_Total Strikes_Attempts',\n",
    "                     'Round3_Strikes_Total Strikes_Attempts',\n",
    "                     'Round4_Strikes_Total Strikes_Attempts', \n",
    "                     'Round5_Strikes_Total Strikes_Attempts'])\n",
    "\n",
    "sum_frame_by_column(fss_df, 'Total (R1-R5) Strikes Landed',\n",
    "                    ['Round1_Strikes_Total Strikes_Landed',\n",
    "                     'Round2_Strikes_Total Strikes_Landed',\n",
    "                     'Round3_Strikes_Total Strikes_Landed',\n",
    "                     'Round4_Strikes_Total Strikes_Landed', \n",
    "                     'Round5_Strikes_Total Strikes_Landed'])\n",
    "\n",
    "sum_frame_by_column(fss_df, 'Total (R1-R5) Significant Strikes Attempts',\n",
    "                    ['Round1_Strikes_Significant Strikes_Attempts',\n",
    "                     'Round2_Strikes_Significant Strikes_Attempts',\n",
    "                     'Round3_Strikes_Significant Strikes_Attempts',\n",
    "                     'Round4_Strikes_Significant Strikes_Attempts', \n",
    "                     'Round5_Strikes_Significant Strikes_Attempts'])\n",
    "\n",
    "sum_frame_by_column(fss_df, 'Total (R1-R5) Significant Strikes Landed',\n",
    "                    ['Round1_Strikes_Significant Strikes_Landed',\n",
    "                     'Round2_Strikes_Significant Strikes_Landed',\n",
    "                     'Round3_Strikes_Significant Strikes_Landed',\n",
    "                     'Round4_Strikes_Significant Strikes_Landed', \n",
    "                     'Round5_Strikes_Significant Strikes_Landed'])\n",
    "\n",
    "sum_frame_by_column(fss_df, 'Opponent Total (R1-R5) Significant Strikes Attempts',\n",
    "                    ['OPP_Round1_Strikes_Significant Strikes_Attempts',\n",
    "                     'OPP_Round2_Strikes_Significant Strikes_Attempts',\n",
    "                     'OPP_Round3_Strikes_Significant Strikes_Attempts',\n",
    "                     'OPP_Round4_Strikes_Significant Strikes_Attempts', \n",
    "                     'OPP_Round5_Strikes_Significant Strikes_Attempts'])\n",
    "\n",
    "sum_frame_by_column(fss_df, 'Opponent Total (R1-R5) Significant Strikes Landed',\n",
    "                    ['OPP_Round1_Strikes_Significant Strikes_Landed',\n",
    "                     'OPP_Round2_Strikes_Significant Strikes_Landed',\n",
    "                     'OPP_Round3_Strikes_Significant Strikes_Landed',\n",
    "                     'OPP_Round4_Strikes_Significant Strikes_Landed', \n",
    "                     'OPP_Round5_Strikes_Significant Strikes_Landed'])\n",
    "\n",
    "sum_frame_by_column(fss_df, 'Total (R1-R5) Ground Total Strikes_Attempts',\n",
    "                    ['Round1_Strikes_Ground Total Strikes_Attempts',\n",
    "                     'Round2_Strikes_Ground Total Strikes_Attempts',\n",
    "                     'Round3_Strikes_Ground Total Strikes_Attempts',\n",
    "                     'Round4_Strikes_Ground Total Strikes_Attempts', \n",
    "                     'Round5_Strikes_Ground Total Strikes_Attempts'])\n",
    "\n",
    "sum_frame_by_column(fss_df, 'Total (R1-R5) Ground Total Strikes_Landed',\n",
    "                    ['Round1_Strikes_Ground Total Strikes_Landed',\n",
    "                     'Round2_Strikes_Ground Total Strikes_Landed',\n",
    "                     'Round3_Strikes_Ground Total Strikes_Landed',\n",
    "                     'Round4_Strikes_Ground Total Strikes_Landed', \n",
    "                     'Round5_Strikes_Ground Total Strikes_Landed'])\n",
    "\n",
    "sum_frame_by_column(fss_df, 'Total_R1-R5_Grappling_Submissions_Attempts',\n",
    "                    ['Round1_Grappling_Submissions_Attempts',\n",
    "                     'Round2_Grappling_Submissions_Attempts',\n",
    "                     'Round3_Grappling_Submissions_Attempts',\n",
    "                     'Round4_Grappling_Submissions_Attempts', \n",
    "                     'Round5_Grappling_Submissions_Attempts'])\n",
    "\n",
    "sum_frame_by_column(fss_df, 'Total (R1-R5) Grappling Takedowns Attempts',\n",
    "                    ['Round1_Grappling_Takedowns_Attempts',\n",
    "                     'Round2_Grappling_Takedowns_Attempts',\n",
    "                     'Round3_Grappling_Takedowns_Attempts',\n",
    "                     'Round4_Grappling_Takedowns_Attempts', \n",
    "                     'Round5_Grappling_Takedowns_Attempts'])\n",
    "\n",
    "sum_frame_by_column(fss_df, 'Total (R1-R5) Grappling Takedowns Landed',\n",
    "                    ['Round1_Grappling_Takedowns_Landed',\n",
    "                     'Round2_Grappling_Takedowns_Landed',\n",
    "                     'Round3_Grappling_Takedowns_Landed',\n",
    "                     'Round4_Grappling_Takedowns_Landed', \n",
    "                     'Round5_Grappling_Takedowns_Landed'])\n",
    "\n",
    "sum_frame_by_column(fss_df, 'Opponent Total (R1-R5) Grappling Takedowns Attempts',\n",
    "                    ['OPP_Round1_Grappling_Takedowns_Attempts',\n",
    "                     'OPP_Round2_Grappling_Takedowns_Attempts',\n",
    "                     'OPP_Round3_Grappling_Takedowns_Attempts',\n",
    "                     'OPP_Round4_Grappling_Takedowns_Attempts', \n",
    "                     'OPP_Round5_Grappling_Takedowns_Attempts'])\n",
    "\n",
    "sum_frame_by_column(fss_df, 'Opponent Total (R1-R5) Grappling Takedowns Landed',\n",
    "                    ['OPP_Round1_Grappling_Takedowns_Landed',\n",
    "                     'OPP_Round2_Grappling_Takedowns_Landed',\n",
    "                     'OPP_Round3_Grappling_Takedowns_Landed',\n",
    "                     'OPP_Round4_Grappling_Takedowns_Landed', \n",
    "                     'OPP_Round5_Grappling_Takedowns_Landed'])\n",
    "\n",
    "sum_frame_by_column(fss_df, 'Total (R1-R5) Grappling Time',\n",
    "                    ['Round1_TIP_Back Control Time',\n",
    "                     'Round2_TIP_Back Control Time',\n",
    "                     'Round3_TIP_Back Control Time',\n",
    "                     'Round4_TIP_Back Control Time', \n",
    "                     'Round5_TIP_Back Control Time',\n",
    "#                      'Round1_TIP_Clinch Time',\n",
    "#                      'Round2_TIP_Clinch Time',\n",
    "#                      'Round3_TIP_Clinch Time',\n",
    "#                      'Round4_TIP_Clinch Time', \n",
    "#                      'Round5_TIP_Clinch Time',\n",
    "                     'Round1_TIP_Ground Control Time',\n",
    "                     'Round2_TIP_Ground Control Time',\n",
    "                     'Round3_TIP_Ground Control Time',\n",
    "                     'Round4_TIP_Ground Control Time', \n",
    "                     'Round5_TIP_Ground Control Time',\n",
    "                     'Round1_TIP_Guard Control Time',\n",
    "                     'Round2_TIP_Guard Control Time',\n",
    "                     'Round3_TIP_Guard Control Time',\n",
    "                     'Round4_TIP_Guard Control Time', \n",
    "                     'Round5_TIP_Guard Control Time',\n",
    "                     'Round1_TIP_Half Guard Control Time',\n",
    "                     'Round2_TIP_Half Guard Control Time',\n",
    "                     'Round3_TIP_Half Guard Control Time',\n",
    "                     'Round4_TIP_Half Guard Control Time', \n",
    "                     'Round5_TIP_Half Guard Control Time',\n",
    "                     'Round1_TIP_Misc. Ground Control Time',\n",
    "                     'Round2_TIP_Misc. Ground Control Time',\n",
    "                     'Round3_TIP_Misc. Ground Control Time',\n",
    "                     'Round4_TIP_Misc. Ground Control Time', \n",
    "                     'Round5_TIP_Misc. Ground Control Time',\n",
    "                     'Round1_TIP_Mount Control Time',\n",
    "                     'Round2_TIP_Mount Control Time',\n",
    "                     'Round3_TIP_Mount Control Time',\n",
    "                     'Round4_TIP_Mount Control Time', \n",
    "                     'Round5_TIP_Mount Control Time',\n",
    "                    ])\n",
    "\n"
   ]
  },
  {
   "cell_type": "code",
   "execution_count": null,
   "metadata": {},
   "outputs": [],
   "source": [
    "# Get Column Names and refer to the indices for iloc\n",
    "\n",
    "# column_names_fss_summary = fss_df.columns.values\n",
    "\n",
    "# for i in enumerate(column_names_fss_summary):\n",
    "#     print(i)"
   ]
  },
  {
   "cell_type": "code",
   "execution_count": null,
   "metadata": {},
   "outputs": [],
   "source": [
    "# Drop all rounds breakdown columns and leave only the summary columns\n",
    "fss_df.drop(fss_df.iloc[:, 3:108], inplace=True, axis=1)\n"
   ]
  },
  {
   "cell_type": "code",
   "execution_count": null,
   "metadata": {
    "scrolled": false
   },
   "outputs": [],
   "source": [
    "# View Updated fss_df for summary and minutes to enable career statistics calucations\n",
    "# fss_df.head()"
   ]
  },
  {
   "cell_type": "code",
   "execution_count": null,
   "metadata": {
    "scrolled": true
   },
   "outputs": [],
   "source": [
    "# Get Column Names and Indices for Final fss_df\n",
    "col_names_fss_final = fss_df.columns.values\n",
    "\n",
    "for i in enumerate(col_names_fss_final):\n",
    "    print(i)"
   ]
  },
  {
   "cell_type": "code",
   "execution_count": null,
   "metadata": {},
   "outputs": [],
   "source": [
    "# checking completeness for new columns (total strikes attempt)\n",
    "\n",
    "# check = 'Total (R1-R5) Grappling Time'\n",
    "# fss_df[check].unique()\n",
    "# fss_df[check].count()"
   ]
  },
  {
   "cell_type": "code",
   "execution_count": null,
   "metadata": {},
   "outputs": [],
   "source": [
    "# For all values in Total (R1-R5) Grappling Time less than 5 seconds, we will replace with 300 seconds\n",
    "\n",
    "fss_df.loc[fss_df['Total (R1-R5) Grappling Time'] < 5.0, 'Total (R1-R5) Grappling Time'] = 300"
   ]
  },
  {
   "cell_type": "code",
   "execution_count": null,
   "metadata": {},
   "outputs": [],
   "source": [
    "# fss_df.sort_values('Total (R1-R5) Grappling Time', ascending=True)\n",
    "# fss_df['Total (R1-R5) Grappling Time'].value_counts()"
   ]
  },
  {
   "cell_type": "code",
   "execution_count": null,
   "metadata": {},
   "outputs": [],
   "source": [
    "# Sort by Grappling Time to ensure results (ensure there are more zeros, and the smallest value is 5)\n",
    "fss_df.sort_values('Total (R1-R5) Grappling Time', ascending=True)"
   ]
  },
  {
   "cell_type": "code",
   "execution_count": null,
   "metadata": {
    "scrolled": false
   },
   "outputs": [],
   "source": [
    "# Assumption: I assumed that the most in a average 3 round match would be about 480 of grappling time max\n",
    "# Very rare to see a whole 3 round match in UFC that extends beyond this\n",
    "\n",
    "fss_df['Total (R1-R5) Grappling Time'] = fss_df['Total (R1-R5) Grappling Time'] / 480 # total grappling time in mins / (8 mins Grap Time Avg* 60seconds)\n",
    "\n"
   ]
  },
  {
   "cell_type": "code",
   "execution_count": null,
   "metadata": {},
   "outputs": [],
   "source": [
    "# Check:\n",
    "# fss_df['Total (R1-R5) Grappling Time'].value_counts()"
   ]
  },
  {
   "cell_type": "code",
   "execution_count": null,
   "metadata": {},
   "outputs": [],
   "source": [
    "# Create a new column and calculate Total (R1-R5) Grappling Actions(Grd. Strikes + (Sub & TD Attempts)\n",
    "\n",
    "fss_df['Total (R1-R5) Grappling Actions(Grd. Strikes + (Sub & TD Attempts)'] = fss_df.iloc[:,9] + fss_df.iloc[:, 11] + fss_df.iloc[:,12]\n"
   ]
  },
  {
   "cell_type": "code",
   "execution_count": null,
   "metadata": {},
   "outputs": [],
   "source": [
    "# Calculate the Total (R1-R5) Striking, Standing, and Clinch Time,\n",
    "# which is total estimated match time less the Total Grappling Time \n",
    "\n",
    "fss_df['Total (R1-R5) Striking, Standing, and Clinch Time'] = fss_df.iloc[:,0] - fss_df.iloc[:,16]\n",
    "\n"
   ]
  },
  {
   "cell_type": "code",
   "execution_count": null,
   "metadata": {
    "scrolled": true
   },
   "outputs": [],
   "source": [
    "# Sort to ensure results after calculations\n",
    "fss_df.sort_values('Total (R1-R5) Grappling Time', ascending=False)"
   ]
  },
  {
   "cell_type": "code",
   "execution_count": null,
   "metadata": {
    "scrolled": true
   },
   "outputs": [],
   "source": [
    "# Check:\n",
    "# fss_df['Total (R1-R5) Grappling Actions(Grd. Strikes + (Sub & TD Attempts)'].value_counts()"
   ]
  },
  {
   "cell_type": "code",
   "execution_count": null,
   "metadata": {},
   "outputs": [],
   "source": [
    "# For all values less than one in 'Total (R1-R5) Grappling Actions(Grd. Strikes + (Sub & TD Attempts)' change it to 1\n",
    "# This will prevent errors when calculating ratios\n",
    "# (e.g. NaN's or inf (infinite - is when you divide a numberator by a denomitator = 0))\n",
    "\n",
    "fss_df.loc[fss_df['Total (R1-R5) Grappling Actions(Grd. Strikes + (Sub & TD Attempts)'] < 1.0, 'Total (R1-R5) Grappling Actions(Grd. Strikes + (Sub & TD Attempts)'] = 1.0"
   ]
  },
  {
   "cell_type": "code",
   "execution_count": null,
   "metadata": {},
   "outputs": [],
   "source": [
    "# Check:\n",
    "# fss_df['Total (R1-R5) Grappling Actions(Grd. Strikes + (Sub & TD Attempts)'].value_counts()"
   ]
  },
  {
   "cell_type": "code",
   "execution_count": null,
   "metadata": {
    "scrolled": true
   },
   "outputs": [],
   "source": [
    "# View Columns for reference:\n",
    "col_names_fss_final2 = fss_df.columns.values\n",
    "\n",
    "for i in enumerate(col_names_fss_final2):\n",
    "    print(i)"
   ]
  },
  {
   "cell_type": "code",
   "execution_count": null,
   "metadata": {},
   "outputs": [],
   "source": [
    "# Double check these items below because we will create ratios from them\n",
    "# These cannot be zero.\n",
    "# (16, 'Total (R1-R5) Grappling Time')\n",
    "# (17, 'Total (R1-R5) Grappling Actions(Grd. Strikes + (Sub & TD Attempts)')\n",
    "# (18, 'Total (R1-R5) Striking, Standing, and Clinch Time')\n",
    "\n",
    "# fss_df['Total (R1-R5) Grappling Actions(Grd. Strikes + (Sub & TD Attempts)'].value_counts()\n",
    "fss_df"
   ]
  },
  {
   "cell_type": "code",
   "execution_count": null,
   "metadata": {},
   "outputs": [],
   "source": [
    "# Drop any rows that have both 'Total (R1-R5) Strikes Attempts' and 'Total (R1-R5) Grappling Actions(Grd. Strikes + (Sub & TD Attempts)'\n",
    "# less than 1.0\n",
    "fss_df.drop(fss_df[(fss_df['Total (R1-R5) Strikes Attempts'] < 1.0) & (fss_df['Total (R1-R5) Grappling Actions(Grd. Strikes + (Sub & TD Attempts)'] < 1.0)].index)\n",
    "\n",
    "fss_df"
   ]
  },
  {
   "cell_type": "code",
   "execution_count": null,
   "metadata": {
    "scrolled": true
   },
   "outputs": [],
   "source": [
    "# View for reference:\n",
    "col_names_fss_final3 = fss_df.columns.values\n",
    "\n",
    "for i in enumerate(col_names_fss_final3):\n",
    "    print(i)"
   ]
  },
  {
   "cell_type": "code",
   "execution_count": null,
   "metadata": {},
   "outputs": [],
   "source": [
    "# Create new column for 'Total Striking Attempts to Grappling Action Attempts Ratio' by dividing\n",
    "# Total (R1-R5) Strikes Attempts by Total (R1-R5) Grappling Actions(Grd. Strikes + (Sub & TD Attempts)\n",
    "\n",
    "fss_df['Total Striking Attempts to Grappling Action Attempts Ratio'] = fss_df.iloc[:,3] / fss_df.iloc[:,17]"
   ]
  },
  {
   "cell_type": "code",
   "execution_count": null,
   "metadata": {},
   "outputs": [],
   "source": [
    "# Check results\n",
    "# fss_df['Total Striking Attempts to Grappling Action Attempts Ratio'].value_counts()"
   ]
  },
  {
   "cell_type": "code",
   "execution_count": null,
   "metadata": {},
   "outputs": [],
   "source": [
    "# Create new column for Total Striking Time to Grappling Action Time Ratio by dividing:\n",
    "# Total Striking Time by Total Grappling Action Time\n",
    "\n",
    "fss_df['Total Striking Time to Grappling Action Time Ratio'] = fss_df.iloc[:,18] / fss_df.iloc[:,16]"
   ]
  },
  {
   "cell_type": "code",
   "execution_count": null,
   "metadata": {},
   "outputs": [],
   "source": [
    "# fss_df['Total Striking Time to Grappling Action Time Ratio'].value_counts()"
   ]
  },
  {
   "cell_type": "code",
   "execution_count": null,
   "metadata": {},
   "outputs": [],
   "source": [
    "# Save Results to CSV\n",
    "# fss_df.to_csv('fss_df_draft5.csv')"
   ]
  },
  {
   "cell_type": "markdown",
   "metadata": {},
   "source": [
    "# MACHINE LEARNING - MODEL 1 - DECISION TREE\n"
   ]
  },
  {
   "cell_type": "code",
   "execution_count": null,
   "metadata": {},
   "outputs": [],
   "source": [
    "from sklearn import tree"
   ]
  },
  {
   "cell_type": "code",
   "execution_count": null,
   "metadata": {
    "scrolled": true
   },
   "outputs": [],
   "source": [
    "# ml_df = pd.read_csv('ml_fight_stats_final.csv', encoding='utf-8')\n",
    "# ml_df.head()"
   ]
  },
  {
   "cell_type": "markdown",
   "metadata": {},
   "source": [
    "Model 1: Features: Submission Wins, KO/TKO Wins, Striking:Grapping \n",
    "\n",
    "WinBy Only DF"
   ]
  },
  {
   "cell_type": "code",
   "execution_count": null,
   "metadata": {},
   "outputs": [],
   "source": [
    "ml_winby_only_df = pd.read_csv('ml_fight_stats_final.csv', encoding='utf-8')\n",
    "ml_winby_only_df"
   ]
  },
  {
   "cell_type": "code",
   "execution_count": null,
   "metadata": {},
   "outputs": [],
   "source": [
    "target2 = ml_winby_only_df['classification']\n",
    "target_names2=['Striker', 'Hybrid Striker', 'Hybrid Grappler', 'Grappler']"
   ]
  },
  {
   "cell_type": "code",
   "execution_count": null,
   "metadata": {},
   "outputs": [],
   "source": [
    "# Including Wins by Sumbission and KO/TKO creates overfitting\n",
    "#drop_list2 = ['Name', 'estimated_minutes', 'PercentRank_StrikingtoGrappingAttemps_Ratio', 'PercentRank_StrikingToGrappingTime_Ratio', 'manual_stat_entry', 'classification']\n",
    "\n",
    "# Using onlly Striking Attempts to Grappling Attempts Ratio and Striking to Grapping Time Ratio adds more variability\n",
    "drop_list2 = ['Name', 'submission_wins_final', 'ko_tko_wins_final', 'estimated_minutes', 'PercentRank_StrikingtoGrappingAttemps_Ratio', 'PercentRank_StrikingToGrappingTime_Ratio', 'manual_stat_entry', 'classification']\n",
    "\n",
    "data2 = ml_winby_only_df.drop(drop_list2, axis=1)\n",
    "feature_names2 = data2.columns\n",
    "data2.head()"
   ]
  },
  {
   "cell_type": "code",
   "execution_count": null,
   "metadata": {},
   "outputs": [],
   "source": [
    "# target = ml_df['classification']\n",
    "# target_names=['Striker', 'Hybrid Striker', 'Hybrid Grappler', 'Grappler']"
   ]
  },
  {
   "cell_type": "code",
   "execution_count": null,
   "metadata": {},
   "outputs": [],
   "source": [
    "# drop_list = ['Name', 'estimated_minutes', 'manual_stat_entry', 'classification']\n",
    "# data = ml_df.drop(drop_list, axis=1)\n",
    "# feature_names = data.columns\n",
    "# data.head()"
   ]
  },
  {
   "cell_type": "code",
   "execution_count": null,
   "metadata": {},
   "outputs": [],
   "source": [
    "from sklearn.model_selection import train_test_split\n",
    "#X_train, X_test, y_train, y_test = train_test_split(data2, target2, random_state=42)\n",
    "X_train, X_test, y_train, y_test = train_test_split(data2, target2)"
   ]
  },
  {
   "cell_type": "code",
   "execution_count": null,
   "metadata": {},
   "outputs": [],
   "source": [
    "clf = tree.DecisionTreeClassifier()\n",
    "clf = clf.fit(X_train, y_train)\n"
   ]
  },
  {
   "cell_type": "code",
   "execution_count": null,
   "metadata": {},
   "outputs": [],
   "source": [
    "print(f\"Training Data Score: {clf.score(X_train, y_train)}\")\n",
    "print(f\"Testing Data Score: {clf.score(X_test, y_test)}\")"
   ]
  },
  {
   "cell_type": "code",
   "execution_count": null,
   "metadata": {},
   "outputs": [],
   "source": [
    "predictions = clf.predict(X_test)\n",
    "\n",
    "print(f\"First 10 Predictions:   {predictions[:10]}\")\n",
    "print(f\"First 10 Actual labels: {y_test[:10].tolist()}\")"
   ]
  },
  {
   "cell_type": "code",
   "execution_count": null,
   "metadata": {},
   "outputs": [],
   "source": [
    "results_tree_df = pd.DataFrame({\"Prediction\": predictions, \"Actual\": y_test}).reset_index(drop=True)\n",
    "results_tree_df.head()"
   ]
  },
  {
   "cell_type": "markdown",
   "metadata": {},
   "source": []
  },
  {
   "cell_type": "markdown",
   "metadata": {},
   "source": [
    "# Model 2 - Linear Regression - using Strike to Grappling Attempts Ratio"
   ]
  },
  {
   "cell_type": "code",
   "execution_count": null,
   "metadata": {},
   "outputs": [],
   "source": [
    "# Importing the dataset\n",
    "df = pd.read_csv('fighter_data.csv')\n",
    "X = df.iloc[:, :-1].values\n",
    "y = df.iloc[:, 1].values\n",
    "print(X.shape, y.shape)"
   ]
  },
  {
   "cell_type": "code",
   "execution_count": null,
   "metadata": {},
   "outputs": [],
   "source": [
    "\n",
    "df.head()"
   ]
  },
  {
   "cell_type": "code",
   "execution_count": null,
   "metadata": {},
   "outputs": [],
   "source": [
    "# Splitting the dataset into the Training set and Test set\n",
    "from sklearn.model_selection import train_test_split\n",
    "X_train, X_test, y_train, y_test = train_test_split(X, y, random_state = 0)\n"
   ]
  },
  {
   "cell_type": "code",
   "execution_count": null,
   "metadata": {},
   "outputs": [],
   "source": [
    "# Fitting Simple Linear Regression to the Training set\n",
    "from sklearn.linear_model import LinearRegression\n",
    "model = LinearRegression()\n",
    "model.fit(X_train, y_train)"
   ]
  },
  {
   "cell_type": "code",
   "execution_count": null,
   "metadata": {},
   "outputs": [],
   "source": [
    "from sklearn.metrics import mean_squared_error, r2_score\n",
    "\n",
    "# Use our model to predict a value\n",
    "predicted = model.predict(X)\n",
    "\n",
    "# Score the prediction with mse and r2\n",
    "mse = mean_squared_error(y, predicted)\n",
    "r2 = r2_score(y, predicted)\n",
    "\n",
    "print(f\"Mean Squared Error (MSE): {mse}\")\n",
    "print(f\"R-squared (R2 ): {r2}\")"
   ]
  },
  {
   "cell_type": "code",
   "execution_count": null,
   "metadata": {},
   "outputs": [],
   "source": [
    "# Overall Score for the model\n",
    "model.score(X, y)"
   ]
  },
  {
   "cell_type": "code",
   "execution_count": null,
   "metadata": {},
   "outputs": [],
   "source": [
    "plt.scatter(X, y)"
   ]
  },
  {
   "cell_type": "code",
   "execution_count": null,
   "metadata": {},
   "outputs": [],
   "source": []
  },
  {
   "cell_type": "markdown",
   "metadata": {},
   "source": [
    "# Model 3 - Linear Regression\n",
    "## using Striking:Grappling Time Ratio"
   ]
  },
  {
   "cell_type": "code",
   "execution_count": null,
   "metadata": {},
   "outputs": [],
   "source": [
    "# Importing the dataset\n",
    "df = pd.read_csv('fighter_data.csv')\n",
    "X = df.iloc[:, :-1].values.reshape(-1, 1)\n",
    "y = df.iloc[:, 1].values\n",
    "print(X.shape, y.shape)"
   ]
  },
  {
   "cell_type": "code",
   "execution_count": null,
   "metadata": {},
   "outputs": [],
   "source": [
    "# Splitting the dataset into the Training set and Test set\n",
    "from sklearn.model_selection import train_test_split\n",
    "X_train, X_test, y_train, y_test = train_test_split(X, y, test_size = 1/3, random_state = 0)\n"
   ]
  },
  {
   "cell_type": "code",
   "execution_count": null,
   "metadata": {},
   "outputs": [],
   "source": [
    "# Fitting Simple Linear Regression to the Training set\n",
    "from sklearn.linear_model import LinearRegression\n",
    "model = LinearRegression()\n",
    "model.fit(X_train, y_train)"
   ]
  },
  {
   "cell_type": "code",
   "execution_count": null,
   "metadata": {},
   "outputs": [],
   "source": [
    "from sklearn.metrics import mean_squared_error, r2_score\n",
    "\n",
    "# Use our model to predict a value\n",
    "predicted = model.predict(X)\n",
    "\n",
    "# Score the prediction with mse and r2\n",
    "mse = mean_squared_error(y, predicted)\n",
    "r2 = r2_score(y, predicted)\n",
    "\n",
    "print(f\"Mean Squared Error (MSE): {mse}\")\n",
    "print(f\"R-squared (R2 ): {r2}\")"
   ]
  },
  {
   "cell_type": "code",
   "execution_count": null,
   "metadata": {},
   "outputs": [],
   "source": [
    "# Overall Score for the model\n",
    "model.score(X, y)"
   ]
  },
  {
   "cell_type": "markdown",
   "metadata": {},
   "source": [
    "#### LINEAR REGRESS = VERY POOR OUTCOME......."
   ]
  },
  {
   "cell_type": "code",
   "execution_count": null,
   "metadata": {},
   "outputs": [],
   "source": []
  },
  {
   "cell_type": "code",
   "execution_count": null,
   "metadata": {},
   "outputs": [],
   "source": []
  },
  {
   "cell_type": "code",
   "execution_count": null,
   "metadata": {},
   "outputs": [],
   "source": []
  },
  {
   "cell_type": "markdown",
   "metadata": {},
   "source": [
    "# Model 4 - Logistic Regression - Binary Outcome - Striker or Grappler"
   ]
  },
  {
   "cell_type": "code",
   "execution_count": 2,
   "metadata": {},
   "outputs": [],
   "source": [
    "fighter_metrics_df = pd.read_csv('ml_fight_stats_final.csv', encoding='UTF-8')"
   ]
  },
  {
   "cell_type": "code",
   "execution_count": 3,
   "metadata": {},
   "outputs": [
    {
     "data": {
      "text/html": [
       "<div>\n",
       "<style scoped>\n",
       "    .dataframe tbody tr th:only-of-type {\n",
       "        vertical-align: middle;\n",
       "    }\n",
       "\n",
       "    .dataframe tbody tr th {\n",
       "        vertical-align: top;\n",
       "    }\n",
       "\n",
       "    .dataframe thead th {\n",
       "        text-align: right;\n",
       "    }\n",
       "</style>\n",
       "<table border=\"1\" class=\"dataframe\">\n",
       "  <thead>\n",
       "    <tr style=\"text-align: right;\">\n",
       "      <th></th>\n",
       "      <th>Name</th>\n",
       "      <th>estimated_minutes</th>\n",
       "      <th>submission_wins_final</th>\n",
       "      <th>ko_tko_wins_final</th>\n",
       "      <th>StrikingAttemptsToGrapplingAttempts_Ratio</th>\n",
       "      <th>PercentRank_StrikingtoGrappingAttemps_Ratio</th>\n",
       "      <th>StrikingToGrapplingTime_Ratio</th>\n",
       "      <th>PercentRank_StrikingToGrappingTime_Ratio</th>\n",
       "      <th>manual_stat_entry</th>\n",
       "      <th>classification</th>\n",
       "    </tr>\n",
       "  </thead>\n",
       "  <tbody>\n",
       "    <tr>\n",
       "      <th>0</th>\n",
       "      <td>Aaron Phillips</td>\n",
       "      <td>30</td>\n",
       "      <td>0</td>\n",
       "      <td>0</td>\n",
       "      <td>1.33</td>\n",
       "      <td>0.20</td>\n",
       "      <td>110.63</td>\n",
       "      <td>0.85</td>\n",
       "      <td>0</td>\n",
       "      <td>Grappler</td>\n",
       "    </tr>\n",
       "    <tr>\n",
       "      <th>1</th>\n",
       "      <td>Abdul Razak Alhassan</td>\n",
       "      <td>35</td>\n",
       "      <td>0</td>\n",
       "      <td>0</td>\n",
       "      <td>14.77</td>\n",
       "      <td>0.86</td>\n",
       "      <td>209.00</td>\n",
       "      <td>0.91</td>\n",
       "      <td>0</td>\n",
       "      <td>Striker</td>\n",
       "    </tr>\n",
       "    <tr>\n",
       "      <th>2</th>\n",
       "      <td>Abdul-Kerim Edilov</td>\n",
       "      <td>10</td>\n",
       "      <td>0</td>\n",
       "      <td>0</td>\n",
       "      <td>5.50</td>\n",
       "      <td>0.63</td>\n",
       "      <td>15.00</td>\n",
       "      <td>0.30</td>\n",
       "      <td>0</td>\n",
       "      <td>Grappler</td>\n",
       "    </tr>\n",
       "    <tr>\n",
       "      <th>3</th>\n",
       "      <td>Abel Trujillo</td>\n",
       "      <td>75</td>\n",
       "      <td>0</td>\n",
       "      <td>0</td>\n",
       "      <td>5.80</td>\n",
       "      <td>0.65</td>\n",
       "      <td>17.11</td>\n",
       "      <td>0.37</td>\n",
       "      <td>0</td>\n",
       "      <td>Grappler</td>\n",
       "    </tr>\n",
       "    <tr>\n",
       "      <th>4</th>\n",
       "      <td>Abner Lloveras</td>\n",
       "      <td>15</td>\n",
       "      <td>0</td>\n",
       "      <td>0</td>\n",
       "      <td>6.80</td>\n",
       "      <td>0.70</td>\n",
       "      <td>23.00</td>\n",
       "      <td>0.44</td>\n",
       "      <td>0</td>\n",
       "      <td>Grappler</td>\n",
       "    </tr>\n",
       "  </tbody>\n",
       "</table>\n",
       "</div>"
      ],
      "text/plain": [
       "                   Name  estimated_minutes  submission_wins_final  \\\n",
       "0        Aaron Phillips                 30                      0   \n",
       "1  Abdul Razak Alhassan                 35                      0   \n",
       "2    Abdul-Kerim Edilov                 10                      0   \n",
       "3         Abel Trujillo                 75                      0   \n",
       "4        Abner Lloveras                 15                      0   \n",
       "\n",
       "   ko_tko_wins_final  StrikingAttemptsToGrapplingAttempts_Ratio  \\\n",
       "0                  0                                       1.33   \n",
       "1                  0                                      14.77   \n",
       "2                  0                                       5.50   \n",
       "3                  0                                       5.80   \n",
       "4                  0                                       6.80   \n",
       "\n",
       "   PercentRank_StrikingtoGrappingAttemps_Ratio  StrikingToGrapplingTime_Ratio  \\\n",
       "0                                         0.20                         110.63   \n",
       "1                                         0.86                         209.00   \n",
       "2                                         0.63                          15.00   \n",
       "3                                         0.65                          17.11   \n",
       "4                                         0.70                          23.00   \n",
       "\n",
       "   PercentRank_StrikingToGrappingTime_Ratio  manual_stat_entry classification  \n",
       "0                                      0.85                  0       Grappler  \n",
       "1                                      0.91                  0        Striker  \n",
       "2                                      0.30                  0       Grappler  \n",
       "3                                      0.37                  0       Grappler  \n",
       "4                                      0.44                  0       Grappler  "
      ]
     },
     "execution_count": 3,
     "metadata": {},
     "output_type": "execute_result"
    }
   ],
   "source": [
    "#fighter_metrics_df.info()\n",
    "\n",
    "\n",
    "fighter_metrics_df.head()"
   ]
  },
  {
   "cell_type": "code",
   "execution_count": 4,
   "metadata": {},
   "outputs": [
    {
     "name": "stdout",
     "output_type": "stream",
     "text": [
      "(1098, 5) (1098,)\n"
     ]
    }
   ],
   "source": [
    "# Perhaps overfitted model:\n",
    "# drop_list3 = ['Name', 'estimated_minutes','PercentRank_StrikingtoGrappingAttemps_Ratio',\n",
    "#               'PercentRank_StrikingToGrappingTime_Ratio', 'manual_stat_entry', 'classification']\n",
    "\n",
    "# Overfitting Concern\n",
    "\n",
    "# 86 / 86% training / test accuracy\n",
    "drop_list3 = ['Name','submission_wins_final', 'ko_tko_wins_final', 'manual_stat_entry', 'classification']\n",
    "\n",
    "# 85/88 % training / test accuracy\n",
    "# drop_list3 = ['Name', 'ko_tko_wins_final', 'manual_stat_entry', 'classification']\n",
    "\n",
    "# 91/88 % training / test accuracy\n",
    "#drop_list3 = ['Name', 'submission_wins_final', 'manual_stat_entry', 'classification']\n",
    "\n",
    "# 87/86 % training / test accuracy\n",
    "# drop_list3 = ['Name','estimated_minutes', 'submission_wins_final', 'ko_tko_wins_final',\n",
    "#               'manual_stat_entry', 'classification']\n",
    "\n",
    "# 86/90 % training / test accuracy\n",
    "# drop_list3 = ['Name','estimated_minutes', 'submission_wins_final', 'ko_tko_wins_final',\n",
    "#               'PercentRank_StrikingToGrappingTime_Ratio', 'manual_stat_entry', 'classification']\n",
    "\n",
    "# 86/89 % training / test accuracy\n",
    "# drop_list3 = ['Name','submission_wins_final', 'ko_tko_wins_final',\n",
    "#               'PercentRank_StrikingToGrappingTime_Ratio', 'manual_stat_entry', 'classification']\n",
    "\n",
    "\n",
    "\n",
    "X = fighter_metrics_df.drop(drop_list3, axis=1)\n",
    "y = fighter_metrics_df[\"classification\"]\n",
    "\n",
    "print(X.shape, y.shape)\n",
    "# print(X)\n",
    "# print(y)"
   ]
  },
  {
   "cell_type": "code",
   "execution_count": 5,
   "metadata": {},
   "outputs": [],
   "source": [
    "from sklearn.model_selection import train_test_split\n",
    "\n",
    "# Original:\n",
    "# X_train, X_test, y_train, y_test = train_test_split(X, y, random_state=1, stratify=y)\n",
    "\n",
    "# Updated:\n",
    "# X_train, X_test, y_train, y_test = train_test_split(X, y, stratify=y)\n",
    "\n",
    "# Updated:\n",
    "X_train, X_test, y_train, y_test = train_test_split(X, y)"
   ]
  },
  {
   "cell_type": "code",
   "execution_count": 6,
   "metadata": {},
   "outputs": [
    {
     "data": {
      "text/plain": [
       "LogisticRegression(C=1.0, class_weight=None, dual=False, fit_intercept=True,\n",
       "          intercept_scaling=1, max_iter=100, multi_class='warn',\n",
       "          n_jobs=None, penalty='l2', random_state=None, solver='warn',\n",
       "          tol=0.0001, verbose=0, warm_start=False)"
      ]
     },
     "execution_count": 6,
     "metadata": {},
     "output_type": "execute_result"
    }
   ],
   "source": [
    "from sklearn.linear_model import LogisticRegression\n",
    "classifier = LogisticRegression()\n",
    "classifier"
   ]
  },
  {
   "cell_type": "code",
   "execution_count": 7,
   "metadata": {},
   "outputs": [
    {
     "name": "stderr",
     "output_type": "stream",
     "text": [
      "C:\\Users\\JOHNE\\Anaconda3\\lib\\site-packages\\sklearn\\linear_model\\logistic.py:433: FutureWarning: Default solver will be changed to 'lbfgs' in 0.22. Specify a solver to silence this warning.\n",
      "  FutureWarning)\n"
     ]
    },
    {
     "data": {
      "text/plain": [
       "LogisticRegression(C=1.0, class_weight=None, dual=False, fit_intercept=True,\n",
       "          intercept_scaling=1, max_iter=100, multi_class='warn',\n",
       "          n_jobs=None, penalty='l2', random_state=None, solver='warn',\n",
       "          tol=0.0001, verbose=0, warm_start=False)"
      ]
     },
     "execution_count": 7,
     "metadata": {},
     "output_type": "execute_result"
    }
   ],
   "source": [
    "classifier.fit(X_train, y_train)"
   ]
  },
  {
   "cell_type": "code",
   "execution_count": 8,
   "metadata": {},
   "outputs": [
    {
     "name": "stdout",
     "output_type": "stream",
     "text": [
      "Training Data Score: 0.8675577156743621\n",
      "Testing Data Score: 0.8654545454545455\n"
     ]
    }
   ],
   "source": [
    "print(f\"Training Data Score: {classifier.score(X_train, y_train)}\")\n",
    "print(f\"Testing Data Score: {classifier.score(X_test, y_test)}\")"
   ]
  },
  {
   "cell_type": "code",
   "execution_count": 9,
   "metadata": {},
   "outputs": [
    {
     "name": "stdout",
     "output_type": "stream",
     "text": [
      "First 10 Predictions:   ['Striker' 'Grappler' 'Striker' 'Striker' 'Grappler' 'Grappler' 'Grappler'\n",
      " 'Striker' 'Striker' 'Striker']\n",
      "First 10 Actual labels: ['Striker', 'Grappler', 'Striker', 'Striker', 'Grappler', 'Grappler', 'Striker', 'Grappler', 'Striker', 'Striker']\n"
     ]
    }
   ],
   "source": [
    "# Make predictions using the X_test and y_test data\n",
    "# Print at least 10 predictions vs their actual labels\n",
    "# YOUR CODE HERE\n",
    "predictions = classifier.predict(X_test)\n",
    "print(f\"First 10 Predictions:   {predictions[:10]}\")\n",
    "print(f\"First 10 Actual labels: {y_test[:10].tolist()}\")"
   ]
  },
  {
   "cell_type": "code",
   "execution_count": 10,
   "metadata": {},
   "outputs": [],
   "source": [
    "results = pd.DataFrame({\"Prediction\": predictions, \"Actual\": y_test}).reset_index(drop=True)\n",
    "# results"
   ]
  },
  {
   "cell_type": "code",
   "execution_count": 11,
   "metadata": {},
   "outputs": [
    {
     "data": {
      "image/png": "[encoded data removed]",
      "text/plain": [
       "<Figure size 432x288 with 2 Axes>"
      ]
     },
     "metadata": {
      "needs_background": "light"
     },
     "output_type": "display_data"
    }
   ],
   "source": [
    "# Confusion Matrix on X (Features)\n",
    "\n",
    "import seaborn as sns\n",
    "sns_plot = sns.heatmap(X.corr(), annot=True)\n",
    "\n",
    "fig = sns_plot.get_figure()\n",
    "fig.savefig(\"confusion_matrix.png\")\n"
   ]
  },
  {
   "cell_type": "code",
   "execution_count": 12,
   "metadata": {},
   "outputs": [
    {
     "data": {
      "text/plain": [
       "<matplotlib.axes._subplots.AxesSubplot at 0x1a158257128>"
      ]
     },
     "execution_count": 12,
     "metadata": {},
     "output_type": "execute_result"
    },
    {
     "data": {
      "image/png": "[encoded data removed]",
      "text/plain": [
       "<Figure size 432x288 with 2 Axes>"
      ]
     },
     "metadata": {
      "needs_background": "light"
     },
     "output_type": "display_data"
    }
   ],
   "source": [
    "# Confusion Matrix on the original fighter_metric_df\n",
    "\n",
    "# this one has a manual stat entry included, where i just marked 1 for fighters I manually looked up close to 300 fighters\n",
    "# and classified, 0 for a mathematical way using some basic statistics to classify 800 other fighters\n",
    "\n",
    "# import seaborn as sns\n",
    "# sns.heatmap(fighter_metrics_df.corr(), annot=True)"
   ]
  },
  {
   "cell_type": "code",
   "execution_count": null,
   "metadata": {},
   "outputs": [],
   "source": []
  },
  {
   "cell_type": "code",
   "execution_count": null,
   "metadata": {},
   "outputs": [],
   "source": []
  }
 ],
 "metadata": {
  "kernelspec": {
   "display_name": "Python 3",
   "language": "python",
   "name": "python3"
  },
  "language_info": {
   "codemirror_mode": {
    "name": "ipython",
    "version": 3
   },
   "file_extension": ".py",
   "mimetype": "text/x-python",
   "name": "python",
   "nbconvert_exporter": "python",
   "pygments_lexer": "ipython3",
   "version": "3.7.1"
  }
 },
 "nbformat": 4,
 "nbformat_minor": 2
}
